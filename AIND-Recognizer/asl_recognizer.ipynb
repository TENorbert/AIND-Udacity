{
 "cells": [
  {
   "cell_type": "markdown",
   "metadata": {
    "collapsed": true,
    "deletable": true,
    "editable": true
   },
   "source": [
    "# Artificial Intelligence Engineer Nanodegree - Probabilistic Models\n",
    "## Project: Sign Language Recognition System\n",
    "- [Introduction](#intro)\n",
    "- [Part 1 Feature Selection](#part1_tutorial)\n",
    "    - [Tutorial](#part1_tutorial)\n",
    "    - [Features Submission](#part1_submission)\n",
    "    - [Features Unittest](#part1_test)\n",
    "- [Part 2 Train the models](#part2_tutorial)\n",
    "    - [Tutorial](#part2_tutorial)\n",
    "    - [Model Selection Score Submission](#part2_submission)\n",
    "    - [Model Score Unittest](#part2_test)\n",
    "- [Part 3 Build a Recognizer](#part3_tutorial)\n",
    "    - [Tutorial](#part3_tutorial)\n",
    "    - [Recognizer Submission](#part3_submission)\n",
    "    - [Recognizer Unittest](#part3_test)\n",
    "- [Part 4 (OPTIONAL) Improve the WER with Language Models](#part4_info)"
   ]
  },
  {
   "cell_type": "markdown",
   "metadata": {
    "deletable": true,
    "editable": true
   },
   "source": [
    "<a id='intro'></a>\n",
    "## Introduction\n",
    "The overall goal of this project is to build a word recognizer for American Sign Language video sequences, demonstrating the power of probabalistic models.  In particular, this project employs  [hidden Markov models (HMM's)](https://en.wikipedia.org/wiki/Hidden_Markov_model) to analyze a series of measurements taken from videos of American Sign Language (ASL) collected for research (see the [RWTH-BOSTON-104 Database](http://www-i6.informatik.rwth-aachen.de/~dreuw/database-rwth-boston-104.php)).  In this video, the right-hand x and y locations are plotted as the speaker signs the sentence.\n",
    "[![ASLR demo](http://www-i6.informatik.rwth-aachen.de/~dreuw/images/demosample.png)](https://drive.google.com/open?id=0B_5qGuFe-wbhUXRuVnNZVnMtam8)\n",
    "\n",
    "The raw data, train, and test sets are pre-defined.  You will derive a variety of feature sets (explored in Part 1), as well as implement three different model selection criterion to determine the optimal number of hidden states for each word model (explored in Part 2). Finally, in Part 3 you will implement the recognizer and compare the effects the different combinations of feature sets and model selection criteria.  \n",
    "\n",
    "At the end of each Part, complete the submission cells with implementations, answer all questions, and pass the unit tests.  Then submit the completed notebook for review!"
   ]
  },
  {
   "cell_type": "markdown",
   "metadata": {
    "deletable": true,
    "editable": true
   },
   "source": [
    "<a id='part1_tutorial'></a>\n",
    "## PART 1: Data\n",
    "\n",
    "### Features Tutorial\n",
    "##### Load the initial database\n",
    "A data handler designed for this database is provided in the student codebase as the `AslDb` class in the `asl_data` module.  This handler creates the initial [pandas](http://pandas.pydata.org/pandas-docs/stable/) dataframe from the corpus of data included in the `data` directory as well as dictionaries suitable for extracting data in a format friendly to the [hmmlearn](https://hmmlearn.readthedocs.io/en/latest/) library.  We'll use those to create models in Part 2.\n",
    "\n",
    "To start, let's set up the initial database and select an example set of features for the training set.  At the end of Part 1, you will create additional feature sets for experimentation. "
   ]
  },
  {
   "cell_type": "code",
   "execution_count": 2,
   "metadata": {
    "collapsed": false,
    "deletable": true,
    "editable": true
   },
   "outputs": [],
   "source": [
    "import numpy as np\n",
    "import pandas as pd\n",
    "from asl_data import AslDb\n",
    "\n",
    "asl = AslDb() # initializes the database\n",
    "#asl.df.head() # displays the first five rows of the asl database, indexed by video and frame"
   ]
  },
  {
   "cell_type": "code",
   "execution_count": 3,
   "metadata": {
    "collapsed": false,
    "deletable": true,
    "editable": true
   },
   "outputs": [
    {
     "data": {
      "text/plain": [
       "left-x         149\n",
       "left-y         181\n",
       "right-x        170\n",
       "right-y        175\n",
       "nose-x         161\n",
       "nose-y          62\n",
       "speaker    woman-1\n",
       "Name: (98, 1), dtype: object"
      ]
     },
     "execution_count": 3,
     "metadata": {},
     "output_type": "execute_result"
    }
   ],
   "source": [
    "asl.df.ix[98,1]  # look at the data available for an individual frame"
   ]
  },
  {
   "cell_type": "markdown",
   "metadata": {
    "deletable": true,
    "editable": true
   },
   "source": [
    "The frame represented by video 98, frame 1 is shown here:\n",
    "![Video 98](http://www-i6.informatik.rwth-aachen.de/~dreuw/database/rwth-boston-104/overview/images/orig/098-start.jpg)"
   ]
  },
  {
   "cell_type": "markdown",
   "metadata": {
    "deletable": true,
    "editable": true
   },
   "source": [
    "##### Feature selection for training the model\n",
    "The objective of feature selection when training a model is to choose the most relevant variables while keeping the model as simple as possible, thus reducing training time.  We can use the raw features already provided or derive our own and add columns to the pandas dataframe `asl.df` for selection. As an example, in the next cell a feature named `'grnd-ry'` is added. This feature is the difference between the right-hand y value and the nose y value, which serves as the \"ground\" right y value. "
   ]
  },
  {
   "cell_type": "code",
   "execution_count": 4,
   "metadata": {
    "collapsed": false,
    "deletable": true,
    "editable": true
   },
   "outputs": [],
   "source": [
    "asl.df['grnd-ry'] = asl.df['right-y'] - asl.df['nose-y']\n",
    "#asl.df.head()  # the new feature 'grnd-ry' is now in the frames dictionary"
   ]
  },
  {
   "cell_type": "markdown",
   "metadata": {
    "deletable": true,
    "editable": true
   },
   "source": [
    "##### Try it!"
   ]
  },
  {
   "cell_type": "code",
   "execution_count": 5,
   "metadata": {
    "collapsed": false,
    "deletable": true,
    "editable": true
   },
   "outputs": [
    {
     "name": "stdout",
     "output_type": "stream",
     "text": [
      "asl.df sample\n"
     ]
    },
    {
     "data": {
      "text/html": [
       "<div>\n",
       "<table border=\"1\" class=\"dataframe\">\n",
       "  <thead>\n",
       "    <tr style=\"text-align: right;\">\n",
       "      <th></th>\n",
       "      <th></th>\n",
       "      <th>left-x</th>\n",
       "      <th>left-y</th>\n",
       "      <th>right-x</th>\n",
       "      <th>right-y</th>\n",
       "      <th>nose-x</th>\n",
       "      <th>nose-y</th>\n",
       "      <th>speaker</th>\n",
       "      <th>grnd-ry</th>\n",
       "      <th>grnd-ly</th>\n",
       "      <th>grnd-rx</th>\n",
       "      <th>grnd-lx</th>\n",
       "    </tr>\n",
       "    <tr>\n",
       "      <th>video</th>\n",
       "      <th>frame</th>\n",
       "      <th></th>\n",
       "      <th></th>\n",
       "      <th></th>\n",
       "      <th></th>\n",
       "      <th></th>\n",
       "      <th></th>\n",
       "      <th></th>\n",
       "      <th></th>\n",
       "      <th></th>\n",
       "      <th></th>\n",
       "      <th></th>\n",
       "    </tr>\n",
       "  </thead>\n",
       "  <tbody>\n",
       "    <tr>\n",
       "      <th rowspan=\"5\" valign=\"top\">98</th>\n",
       "      <th>0</th>\n",
       "      <td>149</td>\n",
       "      <td>181</td>\n",
       "      <td>170</td>\n",
       "      <td>175</td>\n",
       "      <td>161</td>\n",
       "      <td>62</td>\n",
       "      <td>woman-1</td>\n",
       "      <td>113</td>\n",
       "      <td>119</td>\n",
       "      <td>9</td>\n",
       "      <td>-12</td>\n",
       "    </tr>\n",
       "    <tr>\n",
       "      <th>1</th>\n",
       "      <td>149</td>\n",
       "      <td>181</td>\n",
       "      <td>170</td>\n",
       "      <td>175</td>\n",
       "      <td>161</td>\n",
       "      <td>62</td>\n",
       "      <td>woman-1</td>\n",
       "      <td>113</td>\n",
       "      <td>119</td>\n",
       "      <td>9</td>\n",
       "      <td>-12</td>\n",
       "    </tr>\n",
       "    <tr>\n",
       "      <th>2</th>\n",
       "      <td>149</td>\n",
       "      <td>181</td>\n",
       "      <td>170</td>\n",
       "      <td>175</td>\n",
       "      <td>161</td>\n",
       "      <td>62</td>\n",
       "      <td>woman-1</td>\n",
       "      <td>113</td>\n",
       "      <td>119</td>\n",
       "      <td>9</td>\n",
       "      <td>-12</td>\n",
       "    </tr>\n",
       "    <tr>\n",
       "      <th>3</th>\n",
       "      <td>149</td>\n",
       "      <td>181</td>\n",
       "      <td>170</td>\n",
       "      <td>175</td>\n",
       "      <td>161</td>\n",
       "      <td>62</td>\n",
       "      <td>woman-1</td>\n",
       "      <td>113</td>\n",
       "      <td>119</td>\n",
       "      <td>9</td>\n",
       "      <td>-12</td>\n",
       "    </tr>\n",
       "    <tr>\n",
       "      <th>4</th>\n",
       "      <td>149</td>\n",
       "      <td>181</td>\n",
       "      <td>170</td>\n",
       "      <td>175</td>\n",
       "      <td>161</td>\n",
       "      <td>62</td>\n",
       "      <td>woman-1</td>\n",
       "      <td>113</td>\n",
       "      <td>119</td>\n",
       "      <td>9</td>\n",
       "      <td>-12</td>\n",
       "    </tr>\n",
       "  </tbody>\n",
       "</table>\n",
       "</div>"
      ],
      "text/plain": [
       "             left-x  left-y  right-x  right-y  nose-x  nose-y  speaker  \\\n",
       "video frame                                                              \n",
       "98    0         149     181      170      175     161      62  woman-1   \n",
       "      1         149     181      170      175     161      62  woman-1   \n",
       "      2         149     181      170      175     161      62  woman-1   \n",
       "      3         149     181      170      175     161      62  woman-1   \n",
       "      4         149     181      170      175     161      62  woman-1   \n",
       "\n",
       "             grnd-ry  grnd-ly  grnd-rx  grnd-lx  \n",
       "video frame                                      \n",
       "98    0          113      119        9      -12  \n",
       "      1          113      119        9      -12  \n",
       "      2          113      119        9      -12  \n",
       "      3          113      119        9      -12  \n",
       "      4          113      119        9      -12  "
      ]
     },
     "metadata": {},
     "output_type": "display_data"
    },
    {
     "data": {
      "text/html": [
       "<font color=green>Correct!</font><br/>"
      ],
      "text/plain": [
       "<IPython.core.display.HTML object>"
      ]
     },
     "execution_count": 5,
     "metadata": {},
     "output_type": "execute_result"
    }
   ],
   "source": [
    "from asl_utils import test_features_tryit\n",
    "# TODO add df columns for 'grnd-rx', 'grnd-ly', 'grnd-lx' representing differences between hand and nose locations\n",
    "asl.df['grnd-ly'] = asl.df['left-y'] - asl.df['nose-y']\n",
    "asl.df['grnd-rx'] = asl.df['right-x'] - asl.df['nose-x'] \n",
    "asl.df['grnd-lx'] = asl.df['left-x'] - asl.df['nose-x']\n",
    "\n",
    "# test the code\n",
    "test_features_tryit(asl)"
   ]
  },
  {
   "cell_type": "code",
   "execution_count": 6,
   "metadata": {
    "collapsed": false,
    "deletable": true,
    "editable": true
   },
   "outputs": [
    {
     "data": {
      "text/plain": [
       "[9, 113, -12, 119]"
      ]
     },
     "execution_count": 6,
     "metadata": {},
     "output_type": "execute_result"
    }
   ],
   "source": [
    "# collect the features into a list\n",
    "features_ground = ['grnd-rx','grnd-ry','grnd-lx','grnd-ly']\n",
    " #show a single set of features for a given (video, frame) tuple\n",
    "[asl.df.ix[98,1][v] for v in features_ground]"
   ]
  },
  {
   "cell_type": "markdown",
   "metadata": {
    "deletable": true,
    "editable": true
   },
   "source": [
    "##### Build the training set\n",
    "Now that we have a feature list defined, we can pass that list to the `build_training` method to collect the features for all the words in the training set.  Each word in the training set has multiple examples from various videos.  Below we can see the unique words that have been loaded into the training set:"
   ]
  },
  {
   "cell_type": "code",
   "execution_count": 7,
   "metadata": {
    "collapsed": false,
    "deletable": true,
    "editable": true
   },
   "outputs": [
    {
     "name": "stdout",
     "output_type": "stream",
     "text": [
      "Training words: ['JOHN', 'WRITE', 'HOMEWORK', 'IX-1P', 'SEE', 'YESTERDAY', 'IX', 'LOVE', 'MARY', 'CAN', 'GO', 'GO1', 'FUTURE', 'GO2', 'PARTY', 'FUTURE1', 'HIT', 'BLAME', 'FRED', 'FISH', 'WONT', 'EAT', 'BUT', 'CHICKEN', 'VEGETABLE', 'CHINA', 'PEOPLE', 'PREFER', 'BROCCOLI', 'LIKE', 'LEAVE', 'SAY', 'BUY', 'HOUSE', 'KNOW', 'CORN', 'CORN1', 'THINK', 'NOT', 'PAST', 'LIVE', 'CHICAGO', 'CAR', 'SHOULD', 'DECIDE', 'VISIT', 'MOVIE', 'WANT', 'SELL', 'TOMORROW', 'NEXT-WEEK', 'NEW-YORK', 'LAST-WEEK', 'WILL', 'FINISH', 'ANN', 'READ', 'BOOK', 'CHOCOLATE', 'FIND', 'SOMETHING-ONE', 'POSS', 'BROTHER', 'ARRIVE', 'HERE', 'GIVE', 'MAN', 'NEW', 'COAT', 'WOMAN', 'GIVE1', 'HAVE', 'FRANK', 'BREAK-DOWN', 'SEARCH-FOR', 'WHO', 'WHAT', 'LEG', 'FRIEND', 'CANDY', 'BLUE', 'SUE', 'BUY1', 'STOLEN', 'OLD', 'STUDENT', 'VIDEOTAPE', 'BORROW', 'MOTHER', 'POTATO', 'TELL', 'BILL', 'THROW', 'APPLE', 'NAME', 'SHOOT', 'SAY-1P', 'SELF', 'GROUP', 'JANA', 'TOY1', 'MANY', 'TOY', 'ALL', 'BOY', 'TEACHER', 'GIRL', 'BOX', 'GIVE2', 'GIVE3', 'GET', 'PUTASIDE']\n"
     ]
    }
   ],
   "source": [
    "training = asl.build_training(features_ground)\n",
    "print(\"Training words: {}\".format(training.words))"
   ]
  },
  {
   "cell_type": "markdown",
   "metadata": {
    "deletable": true,
    "editable": true
   },
   "source": [
    "The training data in `training` is an object of class `WordsData` defined in the `asl_data` module.  in addition to the `words` list, data can be accessed with the `get_all_sequences`, `get_all_Xlengths`, `get_word_sequences`, and `get_word_Xlengths` methods. We need the `get_word_Xlengths` method to train multiple sequences with the `hmmlearn` library.  In the following example, notice that there are two lists; the first is a concatenation of all the sequences(the X portion) and the second is a list of the sequence lengths(the Lengths portion)."
   ]
  },
  {
   "cell_type": "code",
   "execution_count": 8,
   "metadata": {
    "collapsed": false,
    "deletable": true,
    "editable": true
   },
   "outputs": [],
   "source": [
    "training.get_word_Xlengths('CHOCOLATE');"
   ]
  },
  {
   "cell_type": "markdown",
   "metadata": {
    "deletable": true,
    "editable": true
   },
   "source": [
    "###### More feature sets\n",
    "So far we have a simple feature set that is enough to get started modeling.  However, we might get better results if we manipulate the raw values a bit more, so we will go ahead and set up some other options now for experimentation later.  For example, we could normalize each speaker's range of motion with grouped statistics using [Pandas stats](http://pandas.pydata.org/pandas-docs/stable/api.html#api-dataframe-stats) functions and [pandas groupby](http://pandas.pydata.org/pandas-docs/stable/generated/pandas.DataFrame.groupby.html).  Below is an example for finding the means of all speaker subgroups."
   ]
  },
  {
   "cell_type": "code",
   "execution_count": 9,
   "metadata": {
    "collapsed": false,
    "deletable": true,
    "editable": true,
    "scrolled": true
   },
   "outputs": [],
   "source": [
    "df_means = asl.df.groupby('speaker').mean()\n",
    "#df_means"
   ]
  },
  {
   "cell_type": "markdown",
   "metadata": {
    "deletable": true,
    "editable": true
   },
   "source": [
    "To select a mean that matches by speaker, use the pandas [map](http://pandas.pydata.org/pandas-docs/stable/generated/pandas.Series.map.html) method:"
   ]
  },
  {
   "cell_type": "code",
   "execution_count": 10,
   "metadata": {
    "collapsed": false,
    "deletable": true,
    "editable": true
   },
   "outputs": [],
   "source": [
    "asl.df['left-x-mean'] = asl.df['speaker'].map(df_means['left-x'])\n",
    "#asl.df.head()"
   ]
  },
  {
   "cell_type": "markdown",
   "metadata": {
    "deletable": true,
    "editable": true
   },
   "source": [
    "##### Try it!"
   ]
  },
  {
   "cell_type": "code",
   "execution_count": 11,
   "metadata": {
    "collapsed": false,
    "deletable": true,
    "editable": true
   },
   "outputs": [
    {
     "name": "stdout",
     "output_type": "stream",
     "text": [
      "df_std\n"
     ]
    },
    {
     "data": {
      "text/html": [
       "<div>\n",
       "<table border=\"1\" class=\"dataframe\">\n",
       "  <thead>\n",
       "    <tr style=\"text-align: right;\">\n",
       "      <th></th>\n",
       "      <th>left-x</th>\n",
       "      <th>left-y</th>\n",
       "      <th>right-x</th>\n",
       "      <th>right-y</th>\n",
       "      <th>nose-x</th>\n",
       "      <th>nose-y</th>\n",
       "      <th>grnd-ry</th>\n",
       "      <th>grnd-ly</th>\n",
       "      <th>grnd-rx</th>\n",
       "      <th>grnd-lx</th>\n",
       "      <th>left-x-mean</th>\n",
       "    </tr>\n",
       "    <tr>\n",
       "      <th>speaker</th>\n",
       "      <th></th>\n",
       "      <th></th>\n",
       "      <th></th>\n",
       "      <th></th>\n",
       "      <th></th>\n",
       "      <th></th>\n",
       "      <th></th>\n",
       "      <th></th>\n",
       "      <th></th>\n",
       "      <th></th>\n",
       "      <th></th>\n",
       "    </tr>\n",
       "  </thead>\n",
       "  <tbody>\n",
       "    <tr>\n",
       "      <th>man-1</th>\n",
       "      <td>15.154425</td>\n",
       "      <td>36.328485</td>\n",
       "      <td>18.901917</td>\n",
       "      <td>54.902340</td>\n",
       "      <td>6.654573</td>\n",
       "      <td>5.520045</td>\n",
       "      <td>53.487999</td>\n",
       "      <td>36.572749</td>\n",
       "      <td>20.269032</td>\n",
       "      <td>15.080360</td>\n",
       "      <td>0.0</td>\n",
       "    </tr>\n",
       "    <tr>\n",
       "      <th>woman-1</th>\n",
       "      <td>17.573442</td>\n",
       "      <td>26.594521</td>\n",
       "      <td>16.459943</td>\n",
       "      <td>34.667787</td>\n",
       "      <td>3.549392</td>\n",
       "      <td>3.538330</td>\n",
       "      <td>33.972660</td>\n",
       "      <td>27.117393</td>\n",
       "      <td>16.764706</td>\n",
       "      <td>17.328941</td>\n",
       "      <td>0.0</td>\n",
       "    </tr>\n",
       "    <tr>\n",
       "      <th>woman-2</th>\n",
       "      <td>15.388711</td>\n",
       "      <td>28.825025</td>\n",
       "      <td>14.890288</td>\n",
       "      <td>39.649111</td>\n",
       "      <td>4.099760</td>\n",
       "      <td>3.416167</td>\n",
       "      <td>39.128572</td>\n",
       "      <td>29.320655</td>\n",
       "      <td>16.191324</td>\n",
       "      <td>15.050938</td>\n",
       "      <td>0.0</td>\n",
       "    </tr>\n",
       "  </tbody>\n",
       "</table>\n",
       "</div>"
      ],
      "text/plain": [
       "            left-x     left-y    right-x    right-y    nose-x    nose-y  \\\n",
       "speaker                                                                   \n",
       "man-1    15.154425  36.328485  18.901917  54.902340  6.654573  5.520045   \n",
       "woman-1  17.573442  26.594521  16.459943  34.667787  3.549392  3.538330   \n",
       "woman-2  15.388711  28.825025  14.890288  39.649111  4.099760  3.416167   \n",
       "\n",
       "           grnd-ry    grnd-ly    grnd-rx    grnd-lx  left-x-mean  \n",
       "speaker                                                           \n",
       "man-1    53.487999  36.572749  20.269032  15.080360          0.0  \n",
       "woman-1  33.972660  27.117393  16.764706  17.328941          0.0  \n",
       "woman-2  39.128572  29.320655  16.191324  15.050938          0.0  "
      ]
     },
     "metadata": {},
     "output_type": "display_data"
    }
   ],
   "source": [
    "from asl_utils import test_std_tryit\n",
    "# TODO Create a dataframe named `df_std` with standard deviations grouped by speaker\n",
    "df_std = asl.df.groupby('speaker').std()\n",
    "#df_std; \n",
    "\n",
    "#Now match by speaker\n",
    "asl.df['left-x-std'] = asl.df['speaker'].map(df_std['left-x'])\n",
    "#asl.df.head();\n",
    "# test the code\n",
    "test_std_tryit(df_std);"
   ]
  },
  {
   "cell_type": "markdown",
   "metadata": {
    "deletable": true,
    "editable": true
   },
   "source": [
    "<a id='part1_submission'></a>\n",
    "### Features Implementation Submission\n",
    "Implement four feature sets and answer the question that follows.\n",
    "- normalized Cartesian coordinates\n",
    "    - use *mean* and *standard deviation* statistics and the [standard score](https://en.wikipedia.org/wiki/Standard_score) equation to account for speakers with different heights and arm length\n",
    "    \n",
    "- polar coordinates\n",
    "    - calculate polar coordinates with [Cartesian to polar equations](https://en.wikipedia.org/wiki/Polar_coordinate_system#Converting_between_polar_and_Cartesian_coordinates)\n",
    "    - use the [np.arctan2](https://docs.scipy.org/doc/numpy-1.10.0/reference/generated/numpy.arctan2.html) function and *swap the x and y axes* to move the $0$ to $2\\pi$ discontinuity to 12 o'clock instead of 3 o'clock;  in other words, the normal break in radians value from $0$ to $2\\pi$ occurs directly to the left of the speaker's nose, which may be in the signing area and interfere with results.  By swapping the x and y axes, that discontinuity move to directly above the speaker's head, an area not generally used in signing.\n",
    "\n",
    "- delta difference\n",
    "    - as described in Thad's lecture, use the difference in values between one frame and the next frames as features\n",
    "    - pandas [diff method](http://pandas.pydata.org/pandas-docs/stable/generated/pandas.DataFrame.diff.html) and [fillna method](http://pandas.pydata.org/pandas-docs/stable/generated/pandas.DataFrame.fillna.html) will be helpful for this one\n",
    "\n",
    "- custom features\n",
    "    - These are your own design; combine techniques used above or come up with something else entirely. We look forward to seeing what you come up with! \n",
    "    Some ideas to get you started:\n",
    "        - normalize using a [feature scaling equation](https://en.wikipedia.org/wiki/Feature_scaling)\n",
    "        - normalize the polar coordinates\n",
    "        - adding additional deltas\n"
   ]
  },
  {
   "cell_type": "code",
   "execution_count": 12,
   "metadata": {
    "collapsed": false,
    "deletable": true,
    "editable": true
   },
   "outputs": [],
   "source": [
    "# TODO add features for normalized by speaker values of left, right, x, y\n",
    "# Name these 'norm-rx', 'norm-ry', 'norm-lx', and 'norm-ly'\n",
    "# using Z-score scaling (X-Xmean)/Xstd\n",
    "# Get norm-lx as feature\n",
    "\n",
    "# Left-X\n",
    "lx_mean = asl.df['speaker'].map(asl.df.groupby('speaker')['left-x'].mean())\n",
    "lx_std = asl.df['speaker'].map(asl.df.groupby('speaker')['left-x'].std())\n",
    "asl.df['norm-lx'] = (asl.df['left-x'] - lx_mean)/lx_std\n",
    "# Left-Y\n",
    "ly_mean = asl.df['speaker'].map(asl.df.groupby('speaker')['left-y'].mean())\n",
    "ly_std = asl.df['speaker'].map(asl.df.groupby('speaker')['left-y'].std())\n",
    "asl.df['norm-ly'] = (asl.df['left-y'] - ly_mean)/ly_std\n",
    "\n",
    "# Right-X\n",
    "rx_mean = asl.df['speaker'].map(asl.df.groupby('speaker')['right-x'].mean())\n",
    "rx_std = asl.df['speaker'].map(asl.df.groupby('speaker')['right-x'].std())\n",
    "asl.df['norm-rx'] = (asl.df['right-x'] - rx_mean)/rx_std\n",
    "# Right-Y\n",
    "ry_mean = asl.df['speaker'].map(asl.df.groupby('speaker')['right-y'].mean())\n",
    "ry_std = asl.df['speaker'].map(asl.df.groupby('speaker')['right-y'].std())\n",
    "asl.df['norm-ry'] = (asl.df['right-y'] - ry_mean)/ry_std\n",
    "\n",
    "#asl.df['norm-lx'] = (asl.df['left-x'] - asl.df['speaker'].map(df_means['left-x']))/asl.df['speaker'].map(df_std['left-x'])\n",
    "#asl.df['norm-ly'] = (asl.df['left-y'] - asl.df['speaker'].map(df_means['left-y']))/asl.df['speaker'].map(df_std['left-y'])\n",
    "#asl.df['norm-rx'] = (asl.df['right-x'] - asl.df['speaker'].map(df_means['right-x']) )/asl.df['speaker'].map(df_std['right-x'])\n",
    "#asl.df['norm-ry'] = (asl.df['right-y'] - asl.df['speaker'].map(df_means['right-y']) )/asl.df['speaker'].map(df_std['right-y'])\n",
    "\n",
    "# Here is out normalization features list!\n",
    "features_norm = ['norm-rx', 'norm-ry', 'norm-lx','norm-ly']"
   ]
  },
  {
   "cell_type": "code",
   "execution_count": 13,
   "metadata": {
    "collapsed": false,
    "deletable": true,
    "editable": true
   },
   "outputs": [],
   "source": [
    "# TODO add features for polar coordinate values where the nose is the origin\n",
    "# Name these 'polar-rr', 'polar-rtheta', 'polar-lr', and 'polar-ltheta'\n",
    "# Note that 'polar-rr' and 'polar-rtheta' refer to the radius and angle   \n",
    "# Since angle 0 starts from y axis, reverse y and x in np.arctan2(y, x) formular\n",
    "\n",
    "asl.df['polar-rr']= np.sqrt(np.power(asl.df['grnd-rx'], 2.0) + np.power(asl.df['grnd-ry'], 2.0)) \n",
    "asl.df['polar-rtheta'] = np.arctan2(asl.df['grnd-rx'], asl.df['grnd-ry']) \n",
    "#asl.df['polar-rtheta'] = np.arcsin(asl.df['grnd-rx']/asl.df['polar-rr'])\n",
    "#asl.df['polar-rtheta'] = np.arccos(asl.df['grnd-ry']/asl.df['polar-rr'])\n",
    "asl.df['polar-lr'] = np.sqrt(np.power(asl.df['grnd-lx'], 2.0) + np.power(asl.df['grnd-ly'], 2.0)) \n",
    "asl.df['polar-ltheta'] = np.arctan2(asl.df['grnd-lx'], asl.df['grnd-ly']) \n",
    "#asl.df['polar-ltheta'] = np.arcsin(asl.df['grnd-lx']/asl.df['polar-lr'])\n",
    "#asl.df['polar-ltheta'] = np.arccos(asl.df['grnd-ly']/asl.df['polar-lr'])\n",
    "\n",
    "# Define the polar feature list\n",
    "features_polar = ['polar-rr', 'polar-rtheta', 'polar-lr', 'polar-ltheta']"
   ]
  },
  {
   "cell_type": "code",
   "execution_count": 14,
   "metadata": {
    "collapsed": false,
    "deletable": true,
    "editable": true
   },
   "outputs": [],
   "source": [
    "# TODO add features for left, right, x, y differences by one time step, i.e. the \"delta\" values discussed in the lecture\n",
    "# Name these 'delta-rx', 'delta-ry', 'delta-lx', and 'delta-ly'\n",
    "# calculate difference in columns after 1 period shift  and fill NaN values with 0\n",
    "asl.df['delta-rx'] = asl.df['right-x'].diff(1).fillna(value=0)\n",
    "asl.df['delta-ry'] = asl.df['right-y'].diff(1).fillna(value=0)\n",
    "asl.df['delta-lx'] = asl.df['left-x'].diff(1).fillna(value=0)\n",
    "asl.df['delta-ly'] = asl.df['left-y'].diff(1).fillna(value=0)\n",
    "\n",
    "# Define the delta feature list\n",
    "features_delta = ['delta-rx', 'delta-ry', 'delta-lx', 'delta-ly']"
   ]
  },
  {
   "cell_type": "code",
   "execution_count": 25,
   "metadata": {
    "collapsed": false,
    "deletable": true,
    "editable": true
   },
   "outputs": [
    {
     "name": "stdout",
     "output_type": "stream",
     "text": [
      "             cscale-rr  cscale-lr  cscale-ltheta  cscale-rtheta\n",
      "video frame                                                    \n",
      "98    0       0.000000   0.000000       0.136818       0.637462\n",
      "      1       0.000000   0.000000       0.136818       0.637462\n",
      "      2       0.000000   0.000000       0.136818       0.637462\n",
      "      3       0.000000   0.000000       0.136818       0.637462\n",
      "      4       0.000000   0.000000       0.136818       0.637462\n",
      "      5       0.000000   0.000000       0.136818       0.637462\n",
      "      6       0.000000   0.000000       0.136818       0.637462\n",
      "      7       0.000000   0.000000       0.136818       0.637462\n",
      "      8       0.000000   0.000000       0.136818       0.637462\n",
      "      9       0.000000   0.000000       0.136818       0.637462\n",
      "      10      0.000000   0.000000       0.136818       0.637462\n",
      "      11      0.049903   0.000000       0.136818       0.141312\n",
      "      12      0.172236   0.000000       0.136818       0.075781\n",
      "      13      0.109761   0.000000       0.136818       0.060706\n",
      "      14      0.221602   0.000000       0.136818       0.055060\n",
      "      15      0.302328   0.000000       0.136818       0.110271\n",
      "      16      0.257068   0.000000       0.136818       0.105269\n",
      "      17      0.267116   0.000000       0.136818       0.249653\n",
      "      18      0.277305   0.000000       0.121011       0.258571\n",
      "      19      0.240893   0.000000       0.121011       0.269701\n",
      "      20      0.129602   0.000000       0.121011       0.181321\n",
      "      21      0.000000   0.000000       0.133016       0.490533\n",
      "      22      0.117804   0.000000       0.133016       0.600618\n",
      "      23      0.171777   0.000000       0.133016       0.604918\n",
      "      24      0.066184   0.000000       0.133016       0.588504\n",
      "      25      0.100369   0.000000       0.134990       0.636193\n",
      "      26      0.065169   0.000000       0.134990       0.650487\n",
      "      27      0.082992   0.000000       0.134990       0.672270\n",
      "      28      0.092040   0.000000       0.134990       0.673089\n",
      "      29      0.000000   0.000000       0.134990       0.527637\n",
      "...                ...        ...            ...            ...\n",
      "125   27      0.000000   0.000000       0.482594       0.572911\n",
      "      28      0.074746   0.061395       0.601306       0.635982\n",
      "      29      0.059625   0.000000       0.513692       0.657499\n",
      "      30      0.087050   0.000000       0.513692       0.492914\n",
      "      31      0.048307   0.093565       0.659975       0.447189\n",
      "      32      0.099781   0.031043       0.716248       0.762106\n",
      "      33      0.080998   0.000000       0.554008       0.784429\n",
      "      34      0.079942   0.072921       0.646635       0.772918\n",
      "      35      0.085481   0.088798       0.496221       0.481349\n",
      "      36      0.000000   0.000000       0.555347       0.563252\n",
      "      37      0.073631   0.148248       0.289569       0.626815\n",
      "      38      0.164977   0.127604       0.269884       0.682037\n",
      "      39      0.091240   0.132574       0.291598       0.655791\n",
      "      40      0.000000   0.000000       0.304785       0.607336\n",
      "      41      0.000000   0.000000       0.318453       0.609567\n",
      "      42      0.000000   0.000000       0.318453       0.609567\n",
      "      43      0.000000   0.000000       0.330287       0.612142\n",
      "      44      0.022346   0.000000       0.324268       0.759948\n",
      "      45      0.000000   0.210235       0.312763       0.615671\n",
      "      46      0.105635   0.182724       0.268304       0.640293\n",
      "      47      0.048906   0.220279       0.239179       0.732168\n",
      "      48      0.104534   0.219864       0.244416       0.696396\n",
      "      49      0.137716   0.179391       0.167897       0.683588\n",
      "      50      0.107893   0.126997       0.150220       0.656043\n",
      "      51      0.214594   0.123963       0.114276       0.680982\n",
      "      52      0.189288   0.000000       0.118679       0.664474\n",
      "      53      0.187973   0.000000       0.118679       0.652171\n",
      "      54      0.179477   0.000000       0.118679       0.682538\n",
      "      55      0.000000   0.000000       0.118679       0.641008\n",
      "      56      0.000000   0.000000       0.118679       0.641008\n",
      "\n",
      "[15746 rows x 4 columns]\n"
     ]
    },
    {
     "data": {
      "text/plain": [
       "<matplotlib.figure.Figure at 0x7f54a43bfef0>"
      ]
     },
     "metadata": {},
     "output_type": "display_data"
    },
    {
     "data": {
      "image/png": "[encoded data removed]",
      "text/plain": [
       "<matplotlib.figure.Figure at 0x7f54b553c550>"
      ]
     },
     "metadata": {},
     "output_type": "display_data"
    },
    {
     "data": {
      "image/png": "[encoded data removed]",
      "text/plain": [
       "<matplotlib.figure.Figure at 0x7f54b544c7f0>"
      ]
     },
     "metadata": {},
     "output_type": "display_data"
    },
    {
     "data": {
      "image/png": "[encoded data removed]",
      "text/plain": [
       "<matplotlib.figure.Figure at 0x7f54a3997fd0>"
      ]
     },
     "metadata": {},
     "output_type": "display_data"
    },
    {
     "data": {
      "image/png": "[encoded data removed]",
      "text/plain": [
       "<matplotlib.figure.Figure at 0x7f54b5feff60>"
      ]
     },
     "metadata": {},
     "output_type": "display_data"
    }
   ],
   "source": [
    "# TODO add features of your own design, which may be a combination of the above or something else\n",
    "# Name these whatever you would like\n",
    "\n",
    "#Custom Feature 1\n",
    "#Ground Normalization # using Z-score scaling (X-Xmean)/Xstd\n",
    "#Left-X\n",
    "glx_mean = asl.df['speaker'].map(asl.df.groupby('speaker')['grnd-lx'].mean())\n",
    "glx_std = asl.df['speaker'].map(asl.df.groupby('speaker')['grnd-lx'].std())\n",
    "asl.df['gnorm-lx'] = (asl.df['grnd-lx'] - glx_mean)/glx_std\n",
    "#Left-Y\n",
    "gly_mean = asl.df['speaker'].map(asl.df.groupby('speaker')['grnd-ly'].mean())\n",
    "gly_std = asl.df['speaker'].map(asl.df.groupby('speaker')['grnd-ly'].std())\n",
    "asl.df['gnorm-ly'] = (asl.df['grnd-ly'] - gly_mean)/gly_std\n",
    "\n",
    "#Right-X\n",
    "grx_mean = asl.df['speaker'].map(asl.df.groupby('speaker')['grnd-rx'].mean())\n",
    "grx_std = asl.df['speaker'].map(asl.df.groupby('speaker')['grnd-rx'].std())\n",
    "asl.df['gnorm-rx'] = (asl.df['grnd-rx'] - grx_mean)/grx_std\n",
    "\n",
    "#Right-Y\n",
    "gry_mean = asl.df['speaker'].map(asl.df.groupby('speaker')['grnd-ry'].mean())\n",
    "gry_std = asl.df['speaker'].map(asl.df.groupby('speaker')['grnd-ry'].std())\n",
    "asl.df['gnorm-ry'] = (asl.df['grnd-ry'] - gry_mean)/gry_std\n",
    "\n",
    "#asl.df['grnd-norm-lx'] = (asl.df['grnd-lx'] - asl.df['speaker'].map(df_means['grnd-lx']))/asl.df['speaker'].map(df_std['grnd-lx']) \n",
    "#asl.df['grnd-norm-ly'] = (asl.df['grnd-ly'] - asl.df['speaker'].map(df_means['grnd-ly']))/asl.df['speaker'].map(df_std['grnd-ly']) \n",
    "#asl.df['grnd-norm-rx'] = (asl.df['grnd-rx'] - asl.df['speaker'].map(df_means['grnd-rx']) )/asl.df['speaker'].map(df_std['grnd-rx'])\n",
    "#asl.df['grnd-norm-ry'] = (asl.df['grnd-ry'] - asl.df['speaker'].map(df_means['grnd-ry']) )/asl.df['speaker'].map(df_std['grnd-ry'])\n",
    "\n",
    "## Custom Feature list 1\n",
    "features_custom_gnorm = ['gnorm-rx', 'gnorm-ry', 'gnorm-lx','gnorm-ly'] \n",
    "\n",
    "\n",
    "#Custom Feature 2\n",
    "# Ground Normalization # using Z-score scaling (X-Xmin)/(Xmax - Xmin)\n",
    "#Left-X\n",
    "glx_max = asl.df['speaker'].map(asl.df.groupby('speaker')['grnd-lx'].max())\n",
    "glx_min = asl.df['speaker'].map(asl.df.groupby('speaker')['grnd-lx'].min())\n",
    "asl.df['gscale-lx'] = (asl.df['grnd-lx'] - glx_min )/(glx_max - glx_min )\n",
    "#Left-Y\n",
    "gly_max = asl.df['speaker'].map(asl.df.groupby('speaker')['grnd-ly'].max())\n",
    "gly_min = asl.df['speaker'].map(asl.df.groupby('speaker')['grnd-ly'].min())\n",
    "asl.df['gscale-ly'] = (asl.df['grnd-ly'] - gly_min )/(gly_max - gly_min )\n",
    "\n",
    "#Right-X\n",
    "grx_max = asl.df['speaker'].map(asl.df.groupby('speaker')['grnd-rx'].max())\n",
    "grx_min = asl.df['speaker'].map(asl.df.groupby('speaker')['grnd-rx'].min())\n",
    "asl.df['gscale-rx'] = (asl.df['grnd-rx'] - grx_min )/(grx_max - grx_min )\n",
    "#Right-Y\n",
    "gry_max = asl.df['speaker'].map(asl.df.groupby('speaker')['grnd-ry'].max())\n",
    "gry_min = asl.df['speaker'].map(asl.df.groupby('speaker')['grnd-ry'].min())\n",
    "asl.df['gscale-ry'] = (asl.df['grnd-ly'] - gry_min )/(gry_max - gry_min )\n",
    "\n",
    "#df_max = asl.df.groupby('speaker').max()\n",
    "#df_min = asl.df.groupby('speaker').min()\n",
    "#asl.df['grnd-scale-lx'] = (asl.df['grnd-lx'] - asl.df['speaker'].map(df_min['grnd-lx']) )/(asl.df['speaker'].map(df_max['grnd-lx']) - asl.df['speaker'].map(df_min['grnd-lx']) )\n",
    "#asl.df['grnd-scale-ly'] = (asl.df['grnd-ly'] - asl.df['speaker'].map(df_min['grnd-ly']) )/(asl.df['speaker'].map(df_max['grnd-ly']) - asl.df['speaker'].map(df_min['grnd-ly']) ) \n",
    "#asl.df['grnd-scale-rx'] = (asl.df['grnd-rx'] - asl.df['speaker'].map(df_min['grnd-rx']) )/(asl.df['speaker'].map(df_max['grnd-rx']) - asl.df['speaker'].map(df_min['grnd-rx']) )\n",
    "#asl.df['grnd-scale-ry'] = (asl.df['grnd-ry'] - asl.df['speaker'].map(df_min['grnd-ry']) )/(asl.df['speaker'].map(df_max['grnd-ry']) - asl.df['speaker'].map(df_min['grnd-ry']) )\n",
    "\n",
    "## Custom Feature list 2\n",
    "features_custom_gscale = ['gscale-rx', 'gscale-ry', 'gscale-lx','gscale-ly'] \n",
    "\n",
    "\n",
    "\n",
    "#Custom Feature 3\n",
    "#Polar Normalization # using Z-score scaling (X-Xmean)/Xstd\n",
    "#Right-r\n",
    "prr_mean = asl.df['speaker'].map(asl.df.groupby('speaker')['polar-rr'].mean())\n",
    "prr_std = asl.df['speaker'].map(asl.df.groupby('speaker')['polar-rr'].std())\n",
    "asl.df['pnorm-rr'] = (asl.df['polar-rr'] - prr_mean)/prr_std\n",
    "\n",
    "#Right-Theta\n",
    "prt_mean = asl.df['speaker'].map(asl.df.groupby('speaker')['polar-rtheta'].mean())\n",
    "prt_std = asl.df['speaker'].map(asl.df.groupby('speaker')['polar-rtheta'].std())\n",
    "asl.df['pnorm-rtheta'] = (asl.df['polar-rtheta'] - prt_mean)/prt_std\n",
    "\n",
    "#Left-r\n",
    "plr_mean = asl.df['speaker'].map(asl.df.groupby('speaker')['polar-lr'].mean())\n",
    "plr_std = asl.df['speaker'].map(asl.df.groupby('speaker')['polar-lr'].std())\n",
    "asl.df['pnorm-lr'] = (asl.df['polar-lr'] - plr_mean)/plr_std\n",
    "\n",
    "#Left-Theta\n",
    "plt_mean = asl.df['speaker'].map(asl.df.groupby('speaker')['polar-ltheta'].mean())\n",
    "plt_std = asl.df['speaker'].map(asl.df.groupby('speaker')['polar-ltheta'].std())\n",
    "asl.df['pnorm-ltheta'] = (asl.df['polar-ltheta'] - prt_mean)/prt_std\n",
    "\n",
    "#r_means = asl.df.groupby('speaker').mean()\n",
    "#r_std = asl.df.groupby('speaker').std()\n",
    "#asl.df['pnorm-rr'] = (asl.df['polar-rr'] - asl.df['speaker'].map(r_means['polar-rr']) )/asl.df['speaker'].map(r_std['polar-rr'])\n",
    "#asl.df['pnorm-rtheta'] = (asl.df['polar-rtheta'] - asl.df['speaker'].map(r_means['polar-rtheta']))/asl.df['speaker'].map(r_std['polar-rtheta']) \n",
    "#asl.df['pnorm-lr'] = (asl.df['polar-lr'] - asl.df['speaker'].map(r_means['polar-lr']) )/asl.df['speaker'].map(r_std['polar-lr'])\n",
    "#asl.df['pnorm-ltheta'] = (asl.df['polar-ltheta'] - asl.df['speaker'].map(r_means['polar-ltheta']) )/asl.df['speaker'].map(r_std['polar-ltheta'])\n",
    "\n",
    "## Custom Feature list 3\n",
    "features_custom_pnorm = ['pnorm-rr', 'pnorm-rtheta', 'pnorm-lr','pnorm-ltheta'] \n",
    "\n",
    "\n",
    "#Custom Feature 4\n",
    "#Polar Normalization  # using Z-score scaling (X-Xmin)/(Xmax - Xmin)\n",
    "#Right-r\n",
    "prr_max = asl.df['speaker'].map(asl.df.groupby('speaker')['polar-rr'].max())\n",
    "prr_min = asl.df['speaker'].map(asl.df.groupby('speaker')['polar-rr'].min())\n",
    "asl.df['pscale-rr'] = (asl.df['polar-rr'] - prr_min )/(prr_max - prr_min )\n",
    "#Right-Theta\n",
    "prt_max = asl.df['speaker'].map(asl.df.groupby('speaker')['polar-rtheta'].max())\n",
    "prt_min = asl.df['speaker'].map(asl.df.groupby('speaker')['polar-rtheta'].min())\n",
    "asl.df['pscale-rtheta'] = (asl.df['polar-rtheta'] - prt_min )/(prt_max - prt_min )\n",
    "\n",
    "#Left-r\n",
    "plr_max = asl.df['speaker'].map(asl.df.groupby('speaker')['polar-lr'].max())\n",
    "plr_min = asl.df['speaker'].map(asl.df.groupby('speaker')['polar-lr'].min())\n",
    "asl.df['pscale-lr'] = (asl.df['polar-lr'] - plr_min )/(plr_max - plr_min )\n",
    "#Left-Theta\n",
    "plt_max = asl.df['speaker'].map(asl.df.groupby('speaker')['polar-ltheta'].max())\n",
    "plt_min = asl.df['speaker'].map(asl.df.groupby('speaker')['polar-ltheta'].min())\n",
    "asl.df['pscale-ltheta'] = (asl.df['polar-ltheta'] - plt_min )/(plt_max - plt_min )\n",
    "\n",
    "# Polar Scaling\n",
    "#asl.df['pscale-rr'] = (asl.df['polar-rr'] - asl.df['speaker'].map(df_min['polar-rr']) )/(asl.df['speaker'].map(df_max['polar-rr']) - asl.df['speaker'].map(df_min['polar-rr']) )\n",
    "#asl.df['pscale-rtheta'] = (asl.df['polar-rtheta'] - asl.df['speaker'].map(df_min['polar-rtheta']) )/(asl.df['speaker'].map(df_max['polar-rtheta']) - asl.df['speaker'].map(df_min['polar-rtheta']) )\n",
    "#asl.df['pscale-lr'] = (asl.df['polar-lr'] - asl.df['speaker'].map(df_min['polar-lr']) )/(asl.df['speaker'].map(df_max['polar-lr']) - asl.df['speaker'].map(df_min['polar-lr']) )\n",
    "#asl.df['pscale-ltheta'] = (asl.df['polar-ltheta'] - asl.df['speaker'].map(df_min['polar-ltheta']) )/(asl.df['speaker'].map(df_max['polar-ltheta']) - asl.df['speaker'].map(df_min['polar-ltheta']) )\n",
    "\n",
    "## Custom Feature list 4\n",
    "features_custom_pscale = ['pscale-rr', 'pscale-rtheta', 'pscale-lr','pscale-ltheta'] \n",
    "\n",
    "\n",
    "\n",
    "#Custom Feature 5\n",
    "#Delta Normalization using Z-score scaling (X-Xmean)/Xstd\n",
    "#Right-X\n",
    "drx_mean = asl.df['speaker'].map(asl.df.groupby('speaker')['delta-rx'].mean())\n",
    "drx_std = asl.df['speaker'].map(asl.df.groupby('speaker')['delta-rx'].std())\n",
    "asl.df['dnorm-rx'] = (asl.df['delta-rx'] - drx_mean)/drx_std\n",
    "#Right-Y\n",
    "dry_mean = asl.df['speaker'].map(asl.df.groupby('speaker')['delta-ry'].mean())\n",
    "dry_std = asl.df['speaker'].map(asl.df.groupby('speaker')['delta-ry'].std())\n",
    "asl.df['dnorm-ry'] = (asl.df['delta-ry'] - dry_mean)/dry_std\n",
    "#Left-X\n",
    "dlx_mean = asl.df['speaker'].map(asl.df.groupby('speaker')['delta-lx'].mean())\n",
    "dlx_std = asl.df['speaker'].map(asl.df.groupby('speaker')['delta-lx'].std())\n",
    "asl.df['dnorm-lx'] = (asl.df['delta-lx'] - dlx_mean)/dlx_std\n",
    "#Left-Y\n",
    "dly_mean = asl.df['speaker'].map(asl.df.groupby('speaker')['delta-ly'].mean())\n",
    "dly_std = asl.df['speaker'].map(asl.df.groupby('speaker')['delta-ly'].std())\n",
    "asl.df['dnorm-ly'] = (asl.df['delta-ly'] - dly_mean)/dly_std\n",
    "\n",
    "\n",
    "#asl.df['dnorm-rx'] = (asl.df['delta-rx'] - asl.df['speaker'].map(r_means['delta-rx']) ) / asl.df['speaker'].map(r_std['delta-rx'])\n",
    "#asl.df['dnorm-ry'] = (asl.df['delta-ry'] - asl.df['speaker'].map(r_means['delta-ry']) ) / asl.df['speaker'].map(r_std['delta-ry'])\n",
    "#asl.df['dnorm-lx'] = (asl.df['delta-lx'] - asl.df['speaker'].map(r_means['delta-lx']) ) / asl.df['speaker'].map(r_std['delta-lx'])\n",
    "#asl.df['dnorm-ly'] = (asl.df['delta-ly'] - asl.df['speaker'].map(r_means['delta-ly']) ) / asl.df['speaker'].map(r_std['delta-ly'])\n",
    "\n",
    "## Custom Feature list 5\n",
    "features_custom_dnorm = ['dnorm-rx', 'dnorm-ry', 'dnorm-lx','dnorm-ly'] \n",
    "\n",
    "\n",
    "#Custom Feature 6\n",
    "#Delta Normalization using Z-score scaling (X-Xmin)/(Xmax - Xmin)\n",
    "#Right-X\n",
    "drx_max = asl.df['speaker'].map(asl.df.groupby('speaker')['delta-rx'].max())\n",
    "drx_min = asl.df['speaker'].map(asl.df.groupby('speaker')['delta-rx'].min())\n",
    "asl.df['dscale-rx'] = (asl.df['delta-rx'] - drx_min )/(drx_max - drx_min )\n",
    "#Right-Y\n",
    "dry_max = asl.df['speaker'].map(asl.df.groupby('speaker')['delta-ry'].max())\n",
    "dry_min = asl.df['speaker'].map(asl.df.groupby('speaker')['delta-ry'].min())\n",
    "asl.df['dscale-ry'] = (asl.df['delta-ry'] - dry_min )/(dry_max - dry_min )\n",
    "\n",
    "#Left-X\n",
    "dlx_max = asl.df['speaker'].map(asl.df.groupby('speaker')['delta-lx'].max())\n",
    "dlx_min = asl.df['speaker'].map(asl.df.groupby('speaker')['delta-lx'].min())\n",
    "asl.df['dscale-lx'] = (asl.df['delta-lx'] - dlx_min )/(dlx_max - dlx_min )\n",
    "#Left-Y\n",
    "dly_max = asl.df['speaker'].map(asl.df.groupby('speaker')['delta-ly'].max())\n",
    "dly_min = asl.df['speaker'].map(asl.df.groupby('speaker')['delta-ly'].min())\n",
    "asl.df['dscale-ly'] = (asl.df['delta-ly'] - dly_min )/(dly_max - dly_min )\n",
    "\n",
    "#asl.df['dscale-rx'] = (asl.df['delta-rx'] - asl.df['speaker'].map(df_min['delta-rx']) )/(asl.df['speaker'].map(df_max['delta-rx']) - asl.df['speaker'].map(df_min['delta-rx']) )\n",
    "#asl.df['dscale-ry'] = (asl.df['delta-ry'] - asl.df['speaker'].map(df_min['delta-ry']) )/(asl.df['speaker'].map(df_max['delta-ry']) - asl.df['speaker'].map(df_min['delta-ry']) )\n",
    "#asl.df['dscale-lx'] = (asl.df['delta-lx'] - asl.df['speaker'].map(df_min['delta-lx']) )/(asl.df['speaker'].map(df_max['delta-lx']) - asl.df['speaker'].map(df_min['delta-lx']) )\n",
    "#asl.df['dscale-ly'] = (asl.df['delta-ly'] - asl.df['speaker'].map(df_min['delta-ly']) )/(asl.df['speaker'].map(df_max['delta-ly']) - asl.df['speaker'].map(df_min['delta-ly']) )\n",
    "\n",
    "## Custom Feature list 5\n",
    "features_custom_dscale = ['dscale-rx', 'dscale-ry', 'dscale-lx','dscale-ly'] \n",
    "\n",
    "\n",
    "## Custom Feature 6\n",
    "# How to combine al these to a specific robust feature?\n",
    "# Make them unitless and add them?\n",
    "# first normalise all the features to a common range using feature scaling\n",
    "# we define custom-X = Ground-X*Delta-X/(Ground-X + Delta-X) in (x-y) cordinates\n",
    "# and then scale it so numbers are within [0, 1] as above scales\n",
    "\n",
    "# A similar definition using Polar cordinates(r,theta) would require\n",
    "# that we first transform Delta-X to Polar form as done above before combining it with\n",
    "# the Polar-r. This is similar to the complex transformation Z = Zo + A*exp(i*theta)\n",
    "\n",
    "# custume Feature( fuction of ground and Delta): Scaling is sort of weighted contribution!\n",
    "asl.df['custom-lx'] = asl.df['gscale-lx'] * asl.df['dscale-lx'] /(asl.df['gscale-lx'] + asl.df['dscale-lx'])\n",
    "asl.df['custom-ly'] = asl.df['gscale-ly'] * asl.df['dscale-ly'] /(asl.df['gscale-ly'] + asl.df['dscale-ly'])\n",
    "asl.df['custom-rx'] = asl.df['gscale-rx'] * asl.df['dscale-rx'] /(asl.df['gscale-rx'] + asl.df['dscale-rx'])\n",
    "asl.df['custom-ry'] = asl.df['gscale-ry'] * asl.df['dscale-ry'] /(asl.df['gscale-ry'] + asl.df['dscale-ry'])\n",
    "\n",
    "\n",
    "\n",
    "## Now lets scale the features with X' = (X - min(X))/max(X) - min(X)\n",
    "## Custom (Normaliation)Scaled Feature\n",
    "#Right-X\n",
    "crx_max = asl.df['speaker'].map(asl.df.groupby('speaker')['custom-rx'].max())\n",
    "crx_min = asl.df['speaker'].map(asl.df.groupby('speaker')['custom-rx'].min())\n",
    "asl.df['cscale-rx'] = (asl.df['custom-rx'] - crx_min )/(crx_max - crx_min )\n",
    "#Right-Y\n",
    "cry_max = asl.df['speaker'].map(asl.df.groupby('speaker')['custom-ry'].max())\n",
    "cry_min = asl.df['speaker'].map(asl.df.groupby('speaker')['custom-ry'].min())\n",
    "asl.df['cscale-ry'] = (asl.df['custom-ry'] - cry_min )/(cry_max - cry_min )\n",
    "\n",
    "#Left-X\n",
    "clx_max = asl.df['speaker'].map(asl.df.groupby('speaker')['custom-lx'].max())\n",
    "clx_min = asl.df['speaker'].map(asl.df.groupby('speaker')['custom-lx'].min())\n",
    "asl.df['cscale-lx'] = (asl.df['custom-lx'] - clx_min )/(clx_max - clx_min )\n",
    "#Left-Y\n",
    "cly_max = asl.df['speaker'].map(asl.df.groupby('speaker')['custom-ly'].max())\n",
    "cly_min = asl.df['speaker'].map(asl.df.groupby('speaker')['custom-ly'].min())\n",
    "asl.df['cscale-ly'] = (asl.df['custom-ly'] - cly_min )/(cly_max - cly_min )\n",
    "\n",
    "\n",
    "\n",
    "## redefining max and min for prevent errors popping up!\n",
    "#cf_max = asl.df.groupby('speaker').max()\n",
    "#cf_min = asl.df.groupby('speaker').min()\n",
    "#asl.df['cscale-rx'] = (asl.df['custom-lx'] - asl.df['speaker'].map(cf_min['custom-lx']) )/(asl.df['speaker'].map(cf_max['custom-lx']) - asl.df['speaker'].map(cf_min['custom-lx']) )\n",
    "#asl.df['cscale-ry'] = (asl.df['custom-ly'] - asl.df['speaker'].map(cf_min['custom-ly']) )/(asl.df['speaker'].map(cf_max['custom-ly']) - asl.df['speaker'].map(cf_min['custom-ly']) )\n",
    "#asl.df['cscale-lx'] = (asl.df['custom-rx'] - asl.df['speaker'].map(cf_min['custom-rx']) )/(asl.df['speaker'].map(cf_max['custom-rx']) - asl.df['speaker'].map(cf_min['custom-rx']) )\n",
    "#asl.df['cscale-ly'] = (asl.df['custom-ry'] - asl.df['speaker'].map(cf_min['custom-ry']) )/(asl.df['speaker'].map(cf_max['custom-ry']) - asl.df['speaker'].map(cf_min['custom-ry']) )\n",
    "\n",
    "# TODO define a list named 'features_custom' for building the training set\n",
    "# Custom Features 6 list!\n",
    "features_custom_scale = ['cscale-rx', 'cscale-ry', 'cscale-lx','cscale-ly']\n",
    "\n",
    "\n",
    "## Custom Feature 6\n",
    "# How to combine al these to a specific robust feature?\n",
    "# Make them unitless and add them?\n",
    "# first normalise all the features to a common range using feature scaling\n",
    "# we define custom-r = Polar-r*Delta-r/(Polar-r + Delta-r) in (r-theta) cordinates\n",
    "# and then scale it so numbers are within [0, 1] as above scales\n",
    "# This is similar to the complex transformation Z = Zo + A*exp(i*theta)\n",
    "asl.df['delta-rr']= np.sqrt(np.power(asl.df['delta-rx'], 2.0) + np.power(asl.df['delta-ry'], 2.0)) \n",
    "asl.df['delta-rtheta'] = np.arctan2(asl.df['delta-rx'], asl.df['delta-ry']) \n",
    "asl.df['delta-lr'] = np.sqrt(np.power(asl.df['delta-lx'], 2.0) + np.power(asl.df['delta-ly'], 2.0)) \n",
    "asl.df['delta-ltheta'] = np.arctan2(asl.df['delta-lx'], asl.df['delta-ly']) \n",
    "\n",
    "## Now scale the Polar of the delta to X' = (X - min(X))/max(X) - min(X)\n",
    "#Right-r\n",
    "drr_max = asl.df['speaker'].map(asl.df.groupby('speaker')['delta-rr'].max())\n",
    "drr_min = asl.df['speaker'].map(asl.df.groupby('speaker')['delta-rr'].min())\n",
    "asl.df['dscale-rr'] = (asl.df['delta-rr'] - drr_min )/(drr_max - drr_min )\n",
    "#Right-Theta\n",
    "drt_max = asl.df['speaker'].map(asl.df.groupby('speaker')['delta-rtheta'].max())\n",
    "drt_min = asl.df['speaker'].map(asl.df.groupby('speaker')['delta-rtheta'].min())\n",
    "asl.df['dscale-rtheta'] = (asl.df['delta-rtheta'] - drt_min )/(drt_max - drt_min )\n",
    "\n",
    "#Left-r\n",
    "dlr_max = asl.df['speaker'].map(asl.df.groupby('speaker')['delta-lr'].max())\n",
    "dlr_min = asl.df['speaker'].map(asl.df.groupby('speaker')['delta-lr'].min())\n",
    "asl.df['dscale-lr'] = (asl.df['delta-lr'] - dlr_min )/(dlr_max - dlr_min )\n",
    "#Left-Theta\n",
    "dlt_max = asl.df['speaker'].map(asl.df.groupby('speaker')['delta-ltheta'].max())\n",
    "dlt_min = asl.df['speaker'].map(asl.df.groupby('speaker')['delta-ltheta'].min())\n",
    "asl.df['dscale-ltheta'] = (asl.df['delta-ltheta'] - dlt_min )/(dlt_max - dlt_min )\n",
    "\n",
    "\n",
    "## Now lets Weight each Contribution(Scaled Ground and Delta in Polar Cordinates)\n",
    "# custume Feature( fuction of Scaled ground and Delta): Scaling is sort of weighted contribution!\n",
    "asl.df['custom-rr'] = asl.df['pscale-rr'] * asl.df['dscale-rr'] /(asl.df['pscale-rr'] + asl.df['dscale-rr'])\n",
    "asl.df['custom-rtheta'] = asl.df['pscale-rtheta'] * asl.df['dscale-rtheta'] /(asl.df['pscale-rtheta'] + asl.df['dscale-rtheta'])\n",
    "asl.df['custom-lr'] = asl.df['pscale-lr'] * asl.df['dscale-lr'] /(asl.df['pscale-lr'] + asl.df['dscale-lr'])\n",
    "asl.df['custom-ltheta'] = asl.df['pscale-ltheta'] * asl.df['dscale-ltheta'] /(asl.df['pscale-ltheta'] + asl.df['dscale-ltheta'])\n",
    "\n",
    "\n",
    "## Now we scale the custom polar cordinates generated from the weighted scaled Ground and Delta Polar cordinates\n",
    "# We are scaling the custom polar features with X' = (X - min(X))/max(X) - min(X)\n",
    "#Right-r\n",
    "crr_max = asl.df['speaker'].map(asl.df.groupby('speaker')['custom-rr'].max())\n",
    "crr_min = asl.df['speaker'].map(asl.df.groupby('speaker')['custom-rr'].min())\n",
    "asl.df['cscale-rr'] = (asl.df['custom-rr'] - crr_min )/(crr_max - crr_min )\n",
    "#Right-theta\n",
    "crt_max = asl.df['speaker'].map(asl.df.groupby('speaker')['custom-rtheta'].max())\n",
    "crt_min = asl.df['speaker'].map(asl.df.groupby('speaker')['custom-rtheta'].min())\n",
    "asl.df['cscale-rtheta'] = (asl.df['custom-rtheta'] - crt_min )/(crt_max - crt_min )\n",
    "\n",
    "#Left-r\n",
    "clr_max = asl.df['speaker'].map(asl.df.groupby('speaker')['custom-lr'].max())\n",
    "clr_min = asl.df['speaker'].map(asl.df.groupby('speaker')['custom-lr'].min())\n",
    "asl.df['cscale-lr'] = (asl.df['custom-lr'] - clr_min )/(clr_max - clr_min )\n",
    "#Left-theta\n",
    "clt_max = asl.df['speaker'].map(asl.df.groupby('speaker')['custom-ltheta'].max())\n",
    "clt_min = asl.df['speaker'].map(asl.df.groupby('speaker')['custom-ltheta'].min())\n",
    "asl.df['cscale-ltheta'] = (asl.df['custom-ltheta'] - clt_min )/(clt_max - clt_min )\n",
    "\n",
    "# Custom Features 6 list!\n",
    "features_custom = ['cscale-rr', 'cscale-rtheta', 'cscale-lr','cscale-ltheta']\n",
    "\n",
    "#asl.df\n",
    "#asl.df.drop(['gnorm-lx','gnorm-ly','gnorm-rx','gnorm-ry'],axis=1,inplace=True)                                                                                             \n",
    "#asl.df.drop(['pnorm-rr', 'pnorm-rtheta', 'pnorm-lr','pnorm-ltheta'],axis=1,inplace=True)\n",
    "#asl.df.drop(['delta-rx-norm','delta-ry-norm','delta-lx-norm','delta-ly-norm'],axis=1,inplace=True)\n",
    "\n",
    "\n",
    "#Debugging  \n",
    "#print(asl.df.head());\n",
    "#asl.df.index\n",
    "#asl.df.describe()\n",
    "#print(asl.df.columns)\n",
    "#asl.df.info();\n",
    "#print(asl.df.head());\n",
    "##prr = asl.df['polar-rr']\n",
    "##prrmean = asl.df['speaker'].map(df_means['polar-rr']) \n",
    "##prrstd = asl.df['speaker'].map(df_std['polar-rr']) \n",
    "##prrnorm = [(r-m)/d for r in prr for m in prrmean for d in prrstd ] \n",
    "%matplotlib inline\n",
    "import matplotlib.pyplot as plt\n",
    "\n",
    "\"\"\"\n",
    "# Using Normal Distribution Normalisation\n",
    "plt.figure(figsize = (20.0,15.0))\n",
    "plt.subplot(1,4,1)\n",
    "asl.df['grnd-norm-lx'].plot()\n",
    "plt.title('Ground Norm')\n",
    "plt.subplot(1,4,2)\n",
    "asl.df['polar-lr-norm'].plot()\n",
    "plt.title('Polar Norm')\n",
    "plt.subplot(1,4,3)\n",
    "asl.df['delta-lx-norm'].plot()\n",
    "plt.title('Delta Norm')\n",
    "\n",
    "\"\"\"\n",
    "\n",
    "\"\"\"\n",
    "## Using Scaling\n",
    "plt.figure(figsize = (20.0,15.0))\n",
    "plt.subplot(1,4,1)\n",
    "asl.df['grnd-scale-lx'].plot()\n",
    "plt.title('Ground Scale')\n",
    "plt.subplot(1,4,2)\n",
    "asl.df['polar-lr-scale'].plot()\n",
    "plt.title('Polar Scale')\n",
    "plt.subplot(1,4,3)\n",
    "asl.df['delta-lx-scale'].plot()\n",
    "plt.title('Delta Scale')\n",
    "\"\"\"\n",
    "\n",
    "\"\"\"\n",
    "#plt.figure(figsize = (20.0,15.0))\n",
    "asl.df[['grnd-norm-lx', 'pnorm-lr']].plot()\n",
    "asl.df[['grnd-scale-lx', 'pscale-lr']].plot()\n",
    "asl.df[['grnd-norm-lx', 'dnorm-lx']].plot()\n",
    "asl.df[['pnorm-lr', 'dnorm-lx']].plot()\n",
    "asl.df[['gnorm-lx', 'pnorm-lr','dnorm-lx']].plot()\n",
    "asl.df[['gscale-lx', 'pscale-lr','dscale-lx']].plot()\n",
    "\"\"\"\n",
    "\n",
    "plt.figure(figsize = (20.0,15.0))\n",
    "asl.df[['dscale-rr', 'pscale-rr']].plot()\n",
    "asl.df[['dscale-lr', 'pscale-lr']].plot()\n",
    "asl.df[['dscale-rtheta', 'cscale-rtheta']].plot()\n",
    "asl.df[['pscale-rtheta', 'cscale-rtheta']].plot()\n",
    "\n",
    "#plt.show()\n",
    "print(asl.df[['cscale-rr','cscale-lr','cscale-ltheta','cscale-rtheta']])"
   ]
  },
  {
   "cell_type": "markdown",
   "metadata": {
    "deletable": true,
    "editable": true
   },
   "source": [
    "**Question 1:**  What custom features did you choose for the features_custom set and why?\n",
    "\n",
    "**Answer 1:**\n",
    "\n",
    "Since the polar cordinate is simply a transformation of the cartesian (x-y) cordinate, we decided to combined the scaled ground (r-theta) condinates with the scaled (r-theta) delta cordinates to produced our custom scaled (r-theta) cordinated which is itself scaled. All scalings used is the geneal form x_new = x_old - min(x_old)/max(x_old) - min(x_old) where x_new is our new normalized cordinate. Our final custom feature combines the new cordinates of ground and delta in a way that allows for a weighted contribution for each cordinate since we believe both features can be complimentary to each other as shown on the resulting plots comparing the distribution of these features and thus using both features can be powerful . This is to ensure that both the ground and delta contributions accordingly to our custom features. \n"
   ]
  },
  {
   "cell_type": "markdown",
   "metadata": {
    "deletable": true,
    "editable": true
   },
   "source": [
    "<a id='part1_test'></a>\n",
    "### Features Unit Testing\n",
    "Run the following unit tests as a sanity check on the defined \"ground\", \"norm\", \"polar\", and 'delta\"\n",
    "feature sets.  The test simply looks for some valid values but is not exhaustive.  However, the project should not be submitted if these tests don't pass."
   ]
  },
  {
   "cell_type": "code",
   "execution_count": 26,
   "metadata": {
    "collapsed": false,
    "deletable": true,
    "editable": true
   },
   "outputs": [
    {
     "name": "stderr",
     "output_type": "stream",
     "text": [
      "....\n",
      "----------------------------------------------------------------------\n",
      "Ran 4 tests in 0.102s\n",
      "\n",
      "OK\n"
     ]
    },
    {
     "data": {
      "text/plain": [
       "<unittest.runner.TextTestResult run=4 errors=0 failures=0>"
      ]
     },
     "execution_count": 26,
     "metadata": {},
     "output_type": "execute_result"
    }
   ],
   "source": [
    "import unittest\n",
    "# import numpy as np\n",
    "\n",
    "class TestFeatures(unittest.TestCase):\n",
    "\n",
    "    def test_features_ground(self):\n",
    "        sample = (asl.df.ix[98, 1][features_ground]).tolist()\n",
    "        self.assertEqual(sample, [9, 113, -12, 119])\n",
    "\n",
    "    def test_features_norm(self):\n",
    "        sample = (asl.df.ix[98, 1][features_norm]).tolist()\n",
    "        np.testing.assert_almost_equal(sample, [ 1.153,  1.663, -0.891,  0.742], 3)\n",
    "\n",
    "    def test_features_polar(self):\n",
    "        sample = (asl.df.ix[98,1][features_polar]).tolist()\n",
    "        np.testing.assert_almost_equal(sample, [113.3578, 0.0794, 119.603, -0.1005], 3) \n",
    "\n",
    "    def test_features_delta(self):\n",
    "        sample = (asl.df.ix[98, 0][features_delta]).tolist()\n",
    "        self.assertEqual(sample, [0, 0, 0, 0])\n",
    "        sample = (asl.df.ix[98, 18][features_delta]).tolist()\n",
    "        self.assertTrue(sample in [[-16, -5, -2, 4], [-14, -9, 0, 0]], \"Sample value found was {}\".format(sample))\n",
    "                         \n",
    "suite = unittest.TestLoader().loadTestsFromModule(TestFeatures())\n",
    "unittest.TextTestRunner().run(suite)"
   ]
  },
  {
   "cell_type": "markdown",
   "metadata": {
    "collapsed": true,
    "deletable": true,
    "editable": true
   },
   "source": [
    "<a id='part2_tutorial'></a>\n",
    "## PART 2: Model Selection\n",
    "### Model Selection Tutorial\n",
    "The objective of Model Selection is to tune the number of states for each word HMM prior to testing on unseen data.  In this section you will explore three methods: \n",
    "- Log likelihood using cross-validation folds (CV)\n",
    "- Bayesian Information Criterion (BIC)\n",
    "- Discriminative Information Criterion (DIC) "
   ]
  },
  {
   "cell_type": "markdown",
   "metadata": {
    "deletable": true,
    "editable": true
   },
   "source": [
    "##### Train a single word\n",
    "Now that we have built a training set with sequence data, we can \"train\" models for each word.  As a simple starting example, we train a single word using Gaussian hidden Markov models (HMM).   By using the `fit` method during training, the [Baum-Welch Expectation-Maximization](https://en.wikipedia.org/wiki/Baum%E2%80%93Welch_algorithm) (EM) algorithm is invoked iteratively to find the best estimate for the model *for the number of hidden states specified* from a group of sample seequences. For this example, we *assume* the correct number of hidden states is 3, but that is just a guess.  How do we know what the \"best\" number of states for training is?  We will need to find some model selection technique to choose the best parameter."
   ]
  },
  {
   "cell_type": "code",
   "execution_count": 63,
   "metadata": {
    "collapsed": false,
    "deletable": true,
    "editable": true
   },
   "outputs": [
    {
     "name": "stdout",
     "output_type": "stream",
     "text": [
      "Number of states trained in model for BOOK is 3\n",
      "logL = -2331.1138127433196\n"
     ]
    }
   ],
   "source": [
    "import warnings\n",
    "from hmmlearn.hmm import GaussianHMM\n",
    "\n",
    "def train_a_word(word, num_hidden_states, features):\n",
    "    \n",
    "    warnings.filterwarnings(\"ignore\", category=DeprecationWarning)\n",
    "    training = asl.build_training(features)  \n",
    "    X, lengths = training.get_word_Xlengths(word)\n",
    "    model = GaussianHMM(n_components=num_hidden_states, n_iter=1000).fit(X, lengths)\n",
    "    logL = model.score(X, lengths)\n",
    "    return model, logL\n",
    "\n",
    "demoword = 'BOOK'\n",
    "model, logL = train_a_word(demoword, 3, features_ground)\n",
    "print(\"Number of states trained in model for {} is {}\".format(demoword, model.n_components))\n",
    "print(\"logL = {}\".format(logL))"
   ]
  },
  {
   "cell_type": "markdown",
   "metadata": {
    "deletable": true,
    "editable": true
   },
   "source": [
    "The HMM model has been trained and information can be pulled from the model, including means and variances for each feature and hidden state.  The [log likelihood](http://math.stackexchange.com/questions/892832/why-we-consider-log-likelihood-instead-of-likelihood-in-gaussian-distribution) for any individual sample or group of samples can also be calculated with the `score` method."
   ]
  },
  {
   "cell_type": "code",
   "execution_count": 65,
   "metadata": {
    "collapsed": false,
    "deletable": true,
    "editable": true
   },
   "outputs": [
    {
     "name": "stdout",
     "output_type": "stream",
     "text": [
      "Number of states trained in model for BOOK is 3\n",
      "hidden state #0\n",
      "mean =  [ -11.45300909   94.109178     19.03512475  102.2030162 ]\n",
      "variance =  [  77.403668    203.35441965   26.68898447  156.12444034]\n",
      "\n",
      "hidden state #1\n",
      "mean =  [ -3.46504869  50.66686933  14.02391587  52.04731066]\n",
      "variance =  [ 49.12346305  43.04799144  39.35109609  47.24195772]\n",
      "\n",
      "hidden state #2\n",
      "mean =  [ -1.12415027  69.44164191  17.02866283  77.7231196 ]\n",
      "variance =  [ 19.70434594  16.83041492  30.51552305  11.03678246]\n",
      "\n"
     ]
    }
   ],
   "source": [
    "def show_model_stats(word, model):\n",
    "    print(\"Number of states trained in model for {} is {}\".format(word, model.n_components))    \n",
    "    variance=np.array([np.diag(model.covars_[i]) for i in range(model.n_components)])    \n",
    "    for i in range(model.n_components):  # for each hidden state\n",
    "        print(\"hidden state #{}\".format(i))\n",
    "        print(\"mean = \", model.means_[i])\n",
    "        print(\"variance = \", variance[i])\n",
    "        print()\n",
    "    \n",
    "show_model_stats(demoword, model)"
   ]
  },
  {
   "cell_type": "markdown",
   "metadata": {
    "deletable": true,
    "editable": true
   },
   "source": [
    "##### Try it!\n",
    "Experiment by changing the feature set, word, and/or num_hidden_states values in the next cell to see changes in values.  "
   ]
  },
  {
   "cell_type": "code",
   "execution_count": 67,
   "metadata": {
    "collapsed": false,
    "deletable": true,
    "editable": true
   },
   "outputs": [
    {
     "name": "stdout",
     "output_type": "stream",
     "text": [
      "Number of states trained in model for CHOCOLATE is 3\n",
      "hidden state #0\n",
      "mean =  [ -9.30211403  55.32333876   6.92259936  71.24057775]\n",
      "variance =  [ 16.16920957  46.50917372   3.81388185  15.79446427]\n",
      "\n",
      "hidden state #1\n",
      "mean =  [ -5.40587658  60.1652424    2.32479599  91.3095432 ]\n",
      "variance =  [   7.95073876   64.13103127   13.68077479  129.5912395 ]\n",
      "\n",
      "hidden state #2\n",
      "mean =  [   0.58333333   87.91666667   12.75        108.5       ]\n",
      "variance =  [  39.41055556   18.74388889    9.855       144.4175    ]\n",
      "\n",
      "logL = -601.329147002863\n"
     ]
    }
   ],
   "source": [
    "my_testword = 'CHOCOLATE'\n",
    "model, logL = train_a_word(my_testword, 3, features_ground) # Experiment here with different parameters\n",
    "show_model_stats(my_testword, model)\n",
    "print(\"logL = {}\".format(logL))"
   ]
  },
  {
   "cell_type": "markdown",
   "metadata": {
    "deletable": true,
    "editable": true
   },
   "source": [
    "##### Visualize the hidden states\n",
    "We can plot the means and variances for each state and feature.  Try varying the number of states trained for the HMM model and examine the variances.  Are there some models that are \"better\" than others?  How can you tell?  We would like to hear what you think in the classroom online."
   ]
  },
  {
   "cell_type": "code",
   "execution_count": 30,
   "metadata": {
    "collapsed": false,
    "deletable": true,
    "editable": true
   },
   "outputs": [],
   "source": [
    "%matplotlib inline"
   ]
  },
  {
   "cell_type": "code",
   "execution_count": 31,
   "metadata": {
    "collapsed": false,
    "deletable": true,
    "editable": true
   },
   "outputs": [
    {
     "data": {
      "image/png": "[encoded data removed]",
      "text/plain": [
       "<matplotlib.figure.Figure at 0x7f54b3d693c8>"
      ]
     },
     "metadata": {},
     "output_type": "display_data"
    },
    {
     "data": {
      "image/png": "[encoded data removed]",
      "text/plain": [
       "<matplotlib.figure.Figure at 0x7f54a4154a20>"
      ]
     },
     "metadata": {},
     "output_type": "display_data"
    },
    {
     "data": {
      "image/png": "[encoded data removed]",
      "text/plain": [
       "<matplotlib.figure.Figure at 0x7f54a393ba90>"
      ]
     },
     "metadata": {},
     "output_type": "display_data"
    },
    {
     "data": {
      "image/png": "[encoded data removed]",
      "text/plain": [
       "<matplotlib.figure.Figure at 0x7f54b5435978>"
      ]
     },
     "metadata": {},
     "output_type": "display_data"
    }
   ],
   "source": [
    "import math\n",
    "from matplotlib import (cm, pyplot as plt, mlab)\n",
    "\n",
    "def visualize(word, model):\n",
    "    \"\"\" visualize the input model for a particular word \"\"\"\n",
    "    variance=np.array([np.diag(model.covars_[i]) for i in range(model.n_components)])\n",
    "    figures = []\n",
    "    for parm_idx in range(len(model.means_[0])):\n",
    "        xmin = int(min(model.means_[:,parm_idx]) - max(variance[:,parm_idx]))\n",
    "        xmax = int(max(model.means_[:,parm_idx]) + max(variance[:,parm_idx]))\n",
    "        fig, axs = plt.subplots(model.n_components, sharex=True, sharey=False)\n",
    "        colours = cm.rainbow(np.linspace(0, 1, model.n_components))\n",
    "        for i, (ax, colour) in enumerate(zip(axs, colours)):\n",
    "            x = np.linspace(xmin, xmax, 100)\n",
    "            mu = model.means_[i,parm_idx]\n",
    "            sigma = math.sqrt(np.diag(model.covars_[i])[parm_idx])\n",
    "            ax.plot(x, mlab.normpdf(x, mu, sigma), c=colour)\n",
    "            ax.set_title(\"{} feature {} hidden state #{}\".format(word, parm_idx, i))\n",
    "\n",
    "            ax.grid(True)\n",
    "        figures.append(plt)\n",
    "    for p in figures:\n",
    "        p.show()\n",
    "        \n",
    "visualize(my_testword, model)"
   ]
  },
  {
   "cell_type": "markdown",
   "metadata": {
    "deletable": true,
    "editable": true
   },
   "source": [
    "#####  ModelSelector class\n",
    "Review the `ModelSelector` class from the codebase found in the `my_model_selectors.py` module.  It is designed to be a strategy pattern for choosing different model selectors.  For the project submission in this section, subclass `SelectorModel` to implement the following model selectors.  In other words, you will write your own classes/functions in the `my_model_selectors.py` module and run them from this notebook:\n",
    "\n",
    "- `SelectorCV `:  Log likelihood with CV\n",
    "- `SelectorBIC`: BIC \n",
    "- `SelectorDIC`: DIC\n",
    "\n",
    "You will train each word in the training set with a range of values for the number of hidden states, and then score these alternatives with the model selector, choosing the \"best\" according to each strategy. The simple case of training with a constant value for `n_components` can be called using the provided `SelectorConstant` subclass as follow:"
   ]
  },
  {
   "cell_type": "code",
   "execution_count": 68,
   "metadata": {
    "collapsed": false,
    "deletable": true,
    "editable": true
   },
   "outputs": [
    {
     "name": "stdout",
     "output_type": "stream",
     "text": [
      "Number of states trained in model for VEGETABLE is 3\n"
     ]
    }
   ],
   "source": [
    "from my_model_selectors import SelectorConstant\n",
    "\n",
    "#training = asl.build_training(features_ground)  # Experiment here with different feature sets defined in part 1\n",
    "training = asl.build_training(features_custom_scale)\n",
    "word = 'VEGETABLE' # Experiment here with different words\n",
    "model = SelectorConstant(training.get_all_sequences(), training.get_all_Xlengths(), word, n_constant=3).select()\n",
    "print(\"Number of states trained in model for {} is {}\".format(word, model.n_components))"
   ]
  },
  {
   "cell_type": "markdown",
   "metadata": {
    "deletable": true,
    "editable": true
   },
   "source": [
    "##### Cross-validation folds\n",
    "If we simply score the model with the Log Likelihood calculated from the feature sequences it has been trained on, we should expect that more complex models will have higher likelihoods. However, that doesn't tell us which would have a better likelihood score on unseen data.  The model will likely be overfit as complexity is added.  To estimate which topology model is better using only the training data, we can compare scores using cross-validation.  One technique for cross-validation is to break the training set into \"folds\" and rotate which fold is left out of training.  The \"left out\" fold scored.  This gives us a proxy method of finding the best model to use on \"unseen data\". In the following example, a set of word sequences is broken into three folds using the [scikit-learn Kfold](http://scikit-learn.org/stable/modules/generated/sklearn.model_selection.KFold.html) class object. When you implement `SelectorCV`, you will use this technique."
   ]
  },
  {
   "cell_type": "code",
   "execution_count": 69,
   "metadata": {
    "collapsed": false,
    "deletable": true,
    "editable": true
   },
   "outputs": [
    {
     "name": "stdout",
     "output_type": "stream",
     "text": [
      "Train fold indices:[2 3 4 5] Test fold indices:[0 1]\n",
      "Train fold indices:[0 1 4 5] Test fold indices:[2 3]\n",
      "Train fold indices:[0 1 2 3] Test fold indices:[4 5]\n"
     ]
    }
   ],
   "source": [
    "from sklearn.model_selection import KFold\n",
    "\n",
    "training = asl.build_training(features_custom_scale) # Experiment here with different feature sets\n",
    "word = 'VEGETABLE' # Experiment here with different words\n",
    "word_sequences = training.get_word_sequences(word)\n",
    "split_method = KFold()\n",
    "for cv_train_idx, cv_test_idx in split_method.split(word_sequences):\n",
    "    print(\"Train fold indices:{} Test fold indices:{}\".format(cv_train_idx, cv_test_idx))  # view indices of the folds"
   ]
  },
  {
   "cell_type": "markdown",
   "metadata": {
    "deletable": true,
    "editable": true
   },
   "source": [
    "**Tip:** In order to run `hmmlearn` training using the X,lengths tuples on the new folds, subsets must be combined based on the indices given for the folds.  A helper utility has been provided in the `asl_utils` module named `combine_sequences` for this purpose."
   ]
  },
  {
   "cell_type": "markdown",
   "metadata": {
    "deletable": true,
    "editable": true
   },
   "source": [
    "##### Scoring models with other criterion\n",
    "Scoring model topologies with **BIC** balances fit and complexity within the training set for each word.  In the BIC equation, a penalty term penalizes complexity to avoid overfitting, so that it is not necessary to also use cross-validation in the selection process.  There are a number of references on the internet for this criterion.  These [slides](http://www2.imm.dtu.dk/courses/02433/doc/ch6_slides.pdf) include a formula you may find helpful for your implementation.\n",
    "\n",
    "The advantages of scoring model topologies with **DIC** over BIC are presented by Alain Biem in this [reference](http://citeseerx.ist.psu.edu/viewdoc/download?doi=10.1.1.58.6208&rep=rep1&type=pdf) (also found [here](https://pdfs.semanticscholar.org/ed3d/7c4a5f607201f3848d4c02dd9ba17c791fc2.pdf)).  DIC scores the discriminant ability of a training set for one word against competing words.  Instead of a penalty term for complexity, it provides a penalty if model liklihoods for non-matching words are too similar to model likelihoods for the correct word in the word set."
   ]
  },
  {
   "cell_type": "markdown",
   "metadata": {
    "deletable": true,
    "editable": true
   },
   "source": [
    "<a id='part2_submission'></a>\n",
    "### Model Selection Implementation Submission\n",
    "Implement `SelectorCV`, `SelectorBIC`, and `SelectorDIC` classes in the `my_model_selectors.py` module.  Run the selectors on the following five words. Then answer the questions about your results.\n",
    "\n",
    "**Tip:** The `hmmlearn` library may not be able to train or score all models.  Implement try/except contructs as necessary to eliminate non-viable models from consideration."
   ]
  },
  {
   "cell_type": "code",
   "execution_count": 34,
   "metadata": {
    "collapsed": false,
    "deletable": true,
    "editable": true
   },
   "outputs": [],
   "source": [
    "words_to_train = ['FISH', 'BOOK', 'VEGETABLE', 'FUTURE', 'JOHN']\n",
    "import timeit"
   ]
  },
  {
   "cell_type": "code",
   "execution_count": 70,
   "metadata": {
    "collapsed": false,
    "deletable": true,
    "editable": true
   },
   "outputs": [
    {
     "name": "stdout",
     "output_type": "stream",
     "text": [
      "Training complete for FISH with 3 states with time 0.37467798695433885 seconds\n",
      "Training complete for BOOK with 3 states with time 3.0253480249084532 seconds\n",
      "Training complete for VEGETABLE with 3 states with time 1.0319237280637026 seconds\n",
      "Training complete for FUTURE with 3 states with time 3.0187164359958842 seconds\n",
      "Training complete for JOHN with 3 states with time 23.994539609062485 seconds\n"
     ]
    }
   ],
   "source": [
    "# TODO: Implement SelectorCV in my_model_selector.py\n",
    "from my_model_selectors import SelectorCV\n",
    "#features_custom_gscale for JOHN = 28.239 sec\n",
    "#features_custom_dscale for JOHN = 26.934 sec\n",
    "#features_custom_pscale for JOHN = 26.718 sec\n",
    "#features_custom_scale for JOHN = 23.932 sec  ## Powerful?\n",
    "#features_custom for JOHN = 46.781 sec\n",
    "\n",
    "#features_ground for JOHN = 29.824 sec\n",
    "#features_polar for JOHN = 38.818 sec\n",
    "#features_delta for JOHN = 341.057 sec\n",
    "\n",
    "training = asl.build_training(features_custom_scale)  # Experiment here with different feature sets defined in part 1\n",
    "sequences = training.get_all_sequences()\n",
    "Xlengths = training.get_all_Xlengths()\n",
    "for word in words_to_train:\n",
    "    start = timeit.default_timer()\n",
    "    model =  SelectorCV(sequences, Xlengths, word, \n",
    "                    min_n_components=2, max_n_components=15, random_state = 14).select()\n",
    "    end = timeit.default_timer()-start\n",
    "    if model is not None:\n",
    "        print(\"Training complete for {} with {} states with time {} seconds\".format(word, model.n_components, end))\n",
    "    else:\n",
    "        print(\"Training failed for {}\".format(word))"
   ]
  },
  {
   "cell_type": "code",
   "execution_count": 71,
   "metadata": {
    "collapsed": false,
    "deletable": true,
    "editable": true
   },
   "outputs": [
    {
     "name": "stdout",
     "output_type": "stream",
     "text": [
      "Training complete for FISH with 2 states with time 0.3866635669255629 seconds\n",
      "Training complete for BOOK with 2 states with time 3.0288580670021474 seconds\n",
      "Training complete for VEGETABLE with 2 states with time 1.0149268680252135 seconds\n",
      "Training complete for FUTURE with 2 states with time 3.0370596690336242 seconds\n",
      "Training complete for JOHN with 2 states with time 24.68931408796925 seconds\n"
     ]
    }
   ],
   "source": [
    "# TODO: Implement SelectorBIC in module my_model_selectors.py\n",
    "from my_model_selectors import SelectorBIC\n",
    "#features_custom_gscale for JOHN = 24.4777 sec\n",
    "#features_custom_dscale for JOHN = 27.647 sec\n",
    "#features_custom_pscale for JOHN = 26.197 sec\n",
    "#features_custom_scale for JOHN = 24.567 sec  ## Powerful?\n",
    "#features_custom for JOHN = 47.711 sec\n",
    "\n",
    "#features_ground for JOHN = 29.657 sec\n",
    "#features_polar for JOHN = 40.661 sec\n",
    "#features_delta for JOHN = 39.291 sec\n",
    "\n",
    "training = asl.build_training(features_custom_scale)  # Experiment here with different feature sets defined in part 1\n",
    "sequences = training.get_all_sequences()\n",
    "Xlengths = training.get_all_Xlengths()\n",
    "for word in words_to_train:\n",
    "    start = timeit.default_timer()\n",
    "    model = SelectorBIC(sequences, Xlengths, word, \n",
    "                    min_n_components=2, max_n_components=15, random_state = 14).select()\n",
    "    end = timeit.default_timer()-start\n",
    "    if model is not None:\n",
    "        print(\"Training complete for {} with {} states with time {} seconds\".format(word, model.n_components, end))\n",
    "    else:\n",
    "        print(\"Training failed for {}\".format(word))"
   ]
  },
  {
   "cell_type": "code",
   "execution_count": 81,
   "metadata": {
    "collapsed": false,
    "deletable": true,
    "editable": true
   },
   "outputs": [
    {
     "name": "stdout",
     "output_type": "stream",
     "text": [
      "Training complete for FISH with 2 states with time 3.251274535898119 seconds\n",
      "Training complete for BOOK with 4 states with time 5.9659072160720825 seconds\n",
      "Training complete for VEGETABLE with 2 states with time 3.90628385997843 seconds\n",
      "Training complete for FUTURE with 7 states with time 5.879953752039 seconds\n",
      "Training complete for JOHN with 15 states with time 28.828100670943968 seconds\n"
     ]
    }
   ],
   "source": [
    "# TODO: Implement SelectorDIC in module my_model_selectors.py\n",
    "from my_model_selectors import SelectorDIC\n",
    "#features_custom_gscale for JOHN = 29.091 sec\n",
    "#features_custom_dscale for JOHN = 33.761 sec\n",
    "#features_custom_pscale for JOHN = 32.563 sec\n",
    "#features_custom_scale for JOHN = 28.823 sec  ## Powerful?\n",
    "#features_custom for JOHN = 51.244 sec\n",
    "\n",
    "#features_ground for JOHN = 38.164 sec\n",
    "#features_polar for JOHN = 45.040 sec\n",
    "#features_delta for JOHN = 49.635 sec\n",
    "\n",
    "training = asl.build_training(features_custom_scale)  # Experiment here with different feature sets defined in part 1\n",
    "sequences = training.get_all_sequences()\n",
    "Xlengths = training.get_all_Xlengths()\n",
    "for word in words_to_train:\n",
    "    start = timeit.default_timer()\n",
    "    model = SelectorDIC(sequences, Xlengths, word, \n",
    "                    min_n_components=2, max_n_components=15, random_state = 14).select()\n",
    "    end = timeit.default_timer()-start\n",
    "    if model is not None:\n",
    "        print(\"Training complete for {} with {} states with time {} seconds\".format(word, model.n_components, end))\n",
    "    else:\n",
    "        print(\"Training failed for {}\".format(word))"
   ]
  },
  {
   "cell_type": "markdown",
   "metadata": {
    "deletable": true,
    "editable": true
   },
   "source": [
    "**Question 2:**  Compare and contrast the possible advantages and disadvantages of the various model selectors implemented.\n",
    "\n",
    "**Answer 2:**"
   ]
  },
  {
   "cell_type": "markdown",
   "metadata": {
    "deletable": true,
    "editable": true
   },
   "source": [
    "<a id='part2_test'></a>\n",
    "### Model Selector Unit Testing\n",
    "Run the following unit tests as a sanity check on the implemented model selectors.  The test simply looks for valid interfaces  but is not exhaustive. However, the project should not be submitted if these tests don't pass."
   ]
  },
  {
   "cell_type": "code",
   "execution_count": 82,
   "metadata": {
    "collapsed": false,
    "deletable": true,
    "editable": true
   },
   "outputs": [
    {
     "name": "stderr",
     "output_type": "stream",
     "text": [
      "..."
     ]
    },
    {
     "name": "stdout",
     "output_type": "stream",
     "text": [
      "DIC SumLogP not computed for word = JOHN\n",
      "DIC SumLogP not computed for word = WRITE\n",
      "DIC SumLogP not computed for word = HOMEWORK\n",
      "DIC SumLogP not computed for word = IX-1P\n",
      "DIC SumLogP not computed for word = SEE\n",
      "DIC SumLogP not computed for word = YESTERDAY\n",
      "DIC SumLogP not computed for word = IX\n",
      "DIC SumLogP not computed for word = LOVE\n",
      "DIC SumLogP not computed for word = MARY\n",
      "DIC SumLogP not computed for word = CAN\n",
      "DIC SumLogP not computed for word = GO\n",
      "DIC SumLogP not computed for word = GO1\n",
      "DIC SumLogP not computed for word = FUTURE\n",
      "DIC SumLogP not computed for word = GO2\n",
      "DIC SumLogP not computed for word = PARTY\n",
      "DIC SumLogP not computed for word = FUTURE1\n",
      "DIC SumLogP not computed for word = HIT\n",
      "DIC SumLogP not computed for word = BLAME\n",
      "DIC SumLogP not computed for word = FRED\n",
      "DIC SumLogP not computed for word = FISH\n",
      "DIC SumLogP not computed for word = WONT\n",
      "DIC SumLogP not computed for word = EAT\n",
      "DIC SumLogP not computed for word = BUT\n",
      "DIC SumLogP not computed for word = CHICKEN\n",
      "DIC SumLogP not computed for word = VEGETABLE\n",
      "DIC SumLogP not computed for word = CHINA\n",
      "DIC SumLogP not computed for word = PEOPLE\n",
      "DIC SumLogP not computed for word = PREFER\n",
      "DIC SumLogP not computed for word = BROCCOLI\n",
      "DIC SumLogP not computed for word = LIKE\n",
      "DIC SumLogP not computed for word = LEAVE\n",
      "DIC SumLogP not computed for word = SAY\n",
      "DIC SumLogP not computed for word = BUY\n",
      "DIC SumLogP not computed for word = HOUSE\n",
      "DIC SumLogP not computed for word = KNOW\n",
      "DIC SumLogP not computed for word = CORN\n",
      "DIC SumLogP not computed for word = CORN1\n",
      "DIC SumLogP not computed for word = THINK\n",
      "DIC SumLogP not computed for word = NOT\n",
      "DIC SumLogP not computed for word = PAST\n",
      "DIC SumLogP not computed for word = LIVE\n",
      "DIC SumLogP not computed for word = CHICAGO\n",
      "DIC SumLogP not computed for word = CAR\n",
      "DIC SumLogP not computed for word = SHOULD\n",
      "DIC SumLogP not computed for word = DECIDE\n",
      "DIC SumLogP not computed for word = VISIT\n",
      "DIC SumLogP not computed for word = MOVIE\n",
      "DIC SumLogP not computed for word = WANT\n",
      "DIC SumLogP not computed for word = SELL\n",
      "DIC SumLogP not computed for word = TOMORROW\n",
      "DIC SumLogP not computed for word = NEXT-WEEK\n",
      "DIC SumLogP not computed for word = NEW-YORK\n",
      "DIC SumLogP not computed for word = LAST-WEEK\n",
      "DIC SumLogP not computed for word = WILL\n",
      "DIC SumLogP not computed for word = FINISH\n",
      "DIC SumLogP not computed for word = ANN\n",
      "DIC SumLogP not computed for word = READ\n",
      "DIC SumLogP not computed for word = BOOK\n",
      "DIC SumLogP not computed for word = CHOCOLATE\n",
      "DIC SumLogP not computed for word = FIND\n",
      "DIC SumLogP not computed for word = SOMETHING-ONE\n",
      "DIC SumLogP not computed for word = POSS\n",
      "DIC SumLogP not computed for word = BROTHER\n",
      "DIC SumLogP not computed for word = ARRIVE\n",
      "DIC SumLogP not computed for word = HERE\n",
      "DIC SumLogP not computed for word = GIVE\n",
      "DIC SumLogP not computed for word = MAN\n",
      "DIC SumLogP not computed for word = NEW\n",
      "DIC SumLogP not computed for word = COAT\n",
      "DIC SumLogP not computed for word = WOMAN\n",
      "DIC SumLogP not computed for word = GIVE1\n",
      "DIC SumLogP not computed for word = HAVE\n",
      "DIC SumLogP not computed for word = FRANK\n",
      "DIC SumLogP not computed for word = BREAK-DOWN\n",
      "DIC SumLogP not computed for word = SEARCH-FOR\n",
      "DIC SumLogP not computed for word = WHO\n",
      "DIC SumLogP not computed for word = WHAT\n",
      "DIC SumLogP not computed for word = LEG\n",
      "DIC SumLogP not computed for word = FRIEND\n",
      "DIC SumLogP not computed for word = CANDY\n",
      "DIC SumLogP not computed for word = BLUE\n",
      "DIC SumLogP not computed for word = SUE\n",
      "DIC SumLogP not computed for word = BUY1\n",
      "DIC SumLogP not computed for word = STOLEN\n",
      "DIC SumLogP not computed for word = OLD\n",
      "DIC SumLogP not computed for word = STUDENT\n",
      "DIC SumLogP not computed for word = VIDEOTAPE\n",
      "DIC SumLogP not computed for word = BORROW\n",
      "DIC SumLogP not computed for word = MOTHER\n",
      "DIC SumLogP not computed for word = POTATO\n",
      "DIC SumLogP not computed for word = TELL\n",
      "DIC SumLogP not computed for word = BILL\n",
      "DIC SumLogP not computed for word = THROW\n",
      "DIC SumLogP not computed for word = APPLE\n",
      "DIC SumLogP not computed for word = NAME\n",
      "DIC SumLogP not computed for word = SHOOT\n",
      "DIC SumLogP not computed for word = SAY-1P\n",
      "DIC SumLogP not computed for word = SELF\n",
      "DIC SumLogP not computed for word = GROUP\n",
      "DIC SumLogP not computed for word = JANA\n",
      "DIC SumLogP not computed for word = TOY1\n",
      "DIC SumLogP not computed for word = MANY\n",
      "DIC SumLogP not computed for word = ALL\n",
      "DIC SumLogP not computed for word = BOY\n",
      "DIC SumLogP not computed for word = TEACHER\n",
      "DIC SumLogP not computed for word = GIRL\n",
      "DIC SumLogP not computed for word = BOX\n",
      "DIC SumLogP not computed for word = GIVE2\n",
      "DIC SumLogP not computed for word = GIVE3\n",
      "DIC SumLogP not computed for word = GET\n",
      "DIC SumLogP not computed for word = PUTASIDE\n",
      " Unable to Compute DIC LogL\n",
      "DIC SumLogP not computed for word = JOHN\n",
      "DIC SumLogP not computed for word = WRITE\n",
      "DIC SumLogP not computed for word = HOMEWORK\n",
      "DIC SumLogP not computed for word = IX-1P\n",
      "DIC SumLogP not computed for word = SEE\n",
      "DIC SumLogP not computed for word = YESTERDAY\n",
      "DIC SumLogP not computed for word = IX\n",
      "DIC SumLogP not computed for word = LOVE\n",
      "DIC SumLogP not computed for word = MARY\n",
      "DIC SumLogP not computed for word = CAN\n",
      "DIC SumLogP not computed for word = GO\n",
      "DIC SumLogP not computed for word = GO1\n",
      "DIC SumLogP not computed for word = FUTURE\n",
      "DIC SumLogP not computed for word = GO2\n",
      "DIC SumLogP not computed for word = PARTY\n",
      "DIC SumLogP not computed for word = FUTURE1\n",
      "DIC SumLogP not computed for word = HIT\n",
      "DIC SumLogP not computed for word = BLAME\n",
      "DIC SumLogP not computed for word = FRED\n",
      "DIC SumLogP not computed for word = FISH\n",
      "DIC SumLogP not computed for word = WONT\n",
      "DIC SumLogP not computed for word = EAT\n",
      "DIC SumLogP not computed for word = BUT\n",
      "DIC SumLogP not computed for word = CHICKEN\n",
      "DIC SumLogP not computed for word = VEGETABLE\n",
      "DIC SumLogP not computed for word = CHINA\n",
      "DIC SumLogP not computed for word = PEOPLE\n",
      "DIC SumLogP not computed for word = PREFER\n",
      "DIC SumLogP not computed for word = BROCCOLI\n",
      "DIC SumLogP not computed for word = LIKE\n",
      "DIC SumLogP not computed for word = LEAVE\n",
      "DIC SumLogP not computed for word = SAY\n",
      "DIC SumLogP not computed for word = BUY\n",
      "DIC SumLogP not computed for word = HOUSE\n",
      "DIC SumLogP not computed for word = KNOW\n",
      "DIC SumLogP not computed for word = CORN\n",
      "DIC SumLogP not computed for word = CORN1\n",
      "DIC SumLogP not computed for word = THINK\n",
      "DIC SumLogP not computed for word = NOT\n",
      "DIC SumLogP not computed for word = PAST\n",
      "DIC SumLogP not computed for word = LIVE\n",
      "DIC SumLogP not computed for word = CHICAGO\n",
      "DIC SumLogP not computed for word = CAR\n",
      "DIC SumLogP not computed for word = SHOULD\n",
      "DIC SumLogP not computed for word = DECIDE\n",
      "DIC SumLogP not computed for word = VISIT\n",
      "DIC SumLogP not computed for word = MOVIE\n",
      "DIC SumLogP not computed for word = WANT\n",
      "DIC SumLogP not computed for word = SELL\n",
      "DIC SumLogP not computed for word = TOMORROW\n",
      "DIC SumLogP not computed for word = NEXT-WEEK\n",
      "DIC SumLogP not computed for word = NEW-YORK\n",
      "DIC SumLogP not computed for word = LAST-WEEK\n",
      "DIC SumLogP not computed for word = WILL\n",
      "DIC SumLogP not computed for word = FINISH\n",
      "DIC SumLogP not computed for word = ANN\n",
      "DIC SumLogP not computed for word = READ\n",
      "DIC SumLogP not computed for word = BOOK\n",
      "DIC SumLogP not computed for word = CHOCOLATE\n",
      "DIC SumLogP not computed for word = FIND\n",
      "DIC SumLogP not computed for word = SOMETHING-ONE\n",
      "DIC SumLogP not computed for word = POSS\n",
      "DIC SumLogP not computed for word = BROTHER\n",
      "DIC SumLogP not computed for word = ARRIVE\n",
      "DIC SumLogP not computed for word = HERE\n",
      "DIC SumLogP not computed for word = GIVE\n",
      "DIC SumLogP not computed for word = MAN\n",
      "DIC SumLogP not computed for word = NEW\n",
      "DIC SumLogP not computed for word = COAT\n",
      "DIC SumLogP not computed for word = WOMAN\n",
      "DIC SumLogP not computed for word = GIVE1\n",
      "DIC SumLogP not computed for word = HAVE\n",
      "DIC SumLogP not computed for word = FRANK\n",
      "DIC SumLogP not computed for word = BREAK-DOWN\n",
      "DIC SumLogP not computed for word = SEARCH-FOR\n",
      "DIC SumLogP not computed for word = WHO\n",
      "DIC SumLogP not computed for word = WHAT\n",
      "DIC SumLogP not computed for word = LEG\n",
      "DIC SumLogP not computed for word = FRIEND\n",
      "DIC SumLogP not computed for word = CANDY\n",
      "DIC SumLogP not computed for word = BLUE\n",
      "DIC SumLogP not computed for word = SUE\n",
      "DIC SumLogP not computed for word = BUY1\n",
      "DIC SumLogP not computed for word = STOLEN\n",
      "DIC SumLogP not computed for word = OLD\n",
      "DIC SumLogP not computed for word = STUDENT\n",
      "DIC SumLogP not computed for word = VIDEOTAPE\n",
      "DIC SumLogP not computed for word = BORROW\n",
      "DIC SumLogP not computed for word = MOTHER\n",
      "DIC SumLogP not computed for word = POTATO\n",
      "DIC SumLogP not computed for word = TELL\n",
      "DIC SumLogP not computed for word = BILL\n",
      "DIC SumLogP not computed for word = THROW\n",
      "DIC SumLogP not computed for word = APPLE\n",
      "DIC SumLogP not computed for word = NAME\n",
      "DIC SumLogP not computed for word = SHOOT\n",
      "DIC SumLogP not computed for word = SAY-1P\n",
      "DIC SumLogP not computed for word = SELF\n",
      "DIC SumLogP not computed for word = GROUP\n",
      "DIC SumLogP not computed for word = JANA\n",
      "DIC SumLogP not computed for word = TOY1\n",
      "DIC SumLogP not computed for word = MANY\n",
      "DIC SumLogP not computed for word = ALL\n",
      "DIC SumLogP not computed for word = BOY\n",
      "DIC SumLogP not computed for word = TEACHER\n",
      "DIC SumLogP not computed for word = GIRL\n",
      "DIC SumLogP not computed for word = BOX\n",
      "DIC SumLogP not computed for word = GIVE2\n",
      "DIC SumLogP not computed for word = GIVE3\n",
      "DIC SumLogP not computed for word = GET\n",
      "DIC SumLogP not computed for word = PUTASIDE\n",
      " Unable to Compute DIC LogL\n",
      "DIC SumLogP not computed for word = JOHN\n",
      "DIC SumLogP not computed for word = WRITE\n",
      "DIC SumLogP not computed for word = HOMEWORK\n",
      "DIC SumLogP not computed for word = IX-1P\n",
      "DIC SumLogP not computed for word = SEE\n",
      "DIC SumLogP not computed for word = YESTERDAY\n",
      "DIC SumLogP not computed for word = IX\n",
      "DIC SumLogP not computed for word = LOVE\n",
      "DIC SumLogP not computed for word = MARY\n",
      "DIC SumLogP not computed for word = CAN\n",
      "DIC SumLogP not computed for word = GO\n",
      "DIC SumLogP not computed for word = GO1\n",
      "DIC SumLogP not computed for word = FUTURE\n",
      "DIC SumLogP not computed for word = GO2\n",
      "DIC SumLogP not computed for word = PARTY\n",
      "DIC SumLogP not computed for word = FUTURE1\n",
      "DIC SumLogP not computed for word = HIT\n",
      "DIC SumLogP not computed for word = BLAME\n",
      "DIC SumLogP not computed for word = FRED\n",
      "DIC SumLogP not computed for word = FISH\n",
      "DIC SumLogP not computed for word = WONT\n",
      "DIC SumLogP not computed for word = EAT\n",
      "DIC SumLogP not computed for word = BUT\n",
      "DIC SumLogP not computed for word = CHICKEN\n",
      "DIC SumLogP not computed for word = VEGETABLE\n",
      "DIC SumLogP not computed for word = CHINA\n",
      "DIC SumLogP not computed for word = PEOPLE\n",
      "DIC SumLogP not computed for word = PREFER\n",
      "DIC SumLogP not computed for word = BROCCOLI\n",
      "DIC SumLogP not computed for word = LIKE\n",
      "DIC SumLogP not computed for word = LEAVE\n",
      "DIC SumLogP not computed for word = SAY\n",
      "DIC SumLogP not computed for word = BUY\n",
      "DIC SumLogP not computed for word = HOUSE\n",
      "DIC SumLogP not computed for word = KNOW\n",
      "DIC SumLogP not computed for word = CORN\n",
      "DIC SumLogP not computed for word = CORN1\n",
      "DIC SumLogP not computed for word = THINK\n",
      "DIC SumLogP not computed for word = NOT\n",
      "DIC SumLogP not computed for word = PAST\n",
      "DIC SumLogP not computed for word = LIVE\n",
      "DIC SumLogP not computed for word = CHICAGO\n",
      "DIC SumLogP not computed for word = CAR\n",
      "DIC SumLogP not computed for word = SHOULD\n",
      "DIC SumLogP not computed for word = DECIDE\n",
      "DIC SumLogP not computed for word = VISIT\n",
      "DIC SumLogP not computed for word = MOVIE\n",
      "DIC SumLogP not computed for word = WANT\n",
      "DIC SumLogP not computed for word = SELL\n",
      "DIC SumLogP not computed for word = TOMORROW\n",
      "DIC SumLogP not computed for word = NEXT-WEEK\n",
      "DIC SumLogP not computed for word = NEW-YORK\n",
      "DIC SumLogP not computed for word = LAST-WEEK\n",
      "DIC SumLogP not computed for word = WILL\n",
      "DIC SumLogP not computed for word = FINISH\n",
      "DIC SumLogP not computed for word = ANN\n",
      "DIC SumLogP not computed for word = READ\n",
      "DIC SumLogP not computed for word = BOOK\n",
      "DIC SumLogP not computed for word = CHOCOLATE\n",
      "DIC SumLogP not computed for word = FIND\n",
      "DIC SumLogP not computed for word = SOMETHING-ONE\n",
      "DIC SumLogP not computed for word = POSS\n",
      "DIC SumLogP not computed for word = BROTHER\n",
      "DIC SumLogP not computed for word = ARRIVE\n",
      "DIC SumLogP not computed for word = HERE\n",
      "DIC SumLogP not computed for word = GIVE\n",
      "DIC SumLogP not computed for word = MAN\n",
      "DIC SumLogP not computed for word = NEW\n",
      "DIC SumLogP not computed for word = COAT\n",
      "DIC SumLogP not computed for word = WOMAN\n",
      "DIC SumLogP not computed for word = GIVE1\n",
      "DIC SumLogP not computed for word = HAVE\n",
      "DIC SumLogP not computed for word = FRANK\n",
      "DIC SumLogP not computed for word = BREAK-DOWN\n",
      "DIC SumLogP not computed for word = SEARCH-FOR\n",
      "DIC SumLogP not computed for word = WHO\n",
      "DIC SumLogP not computed for word = WHAT\n",
      "DIC SumLogP not computed for word = LEG\n",
      "DIC SumLogP not computed for word = FRIEND\n",
      "DIC SumLogP not computed for word = CANDY\n",
      "DIC SumLogP not computed for word = BLUE\n",
      "DIC SumLogP not computed for word = SUE\n",
      "DIC SumLogP not computed for word = BUY1\n",
      "DIC SumLogP not computed for word = STOLEN\n",
      "DIC SumLogP not computed for word = OLD\n",
      "DIC SumLogP not computed for word = STUDENT\n",
      "DIC SumLogP not computed for word = VIDEOTAPE\n",
      "DIC SumLogP not computed for word = BORROW\n",
      "DIC SumLogP not computed for word = MOTHER\n",
      "DIC SumLogP not computed for word = POTATO\n",
      "DIC SumLogP not computed for word = TELL\n",
      "DIC SumLogP not computed for word = BILL\n",
      "DIC SumLogP not computed for word = THROW\n",
      "DIC SumLogP not computed for word = APPLE\n",
      "DIC SumLogP not computed for word = NAME\n",
      "DIC SumLogP not computed for word = SHOOT\n",
      "DIC SumLogP not computed for word = SAY-1P\n",
      "DIC SumLogP not computed for word = SELF\n",
      "DIC SumLogP not computed for word = GROUP\n",
      "DIC SumLogP not computed for word = JANA\n",
      "DIC SumLogP not computed for word = TOY1\n",
      "DIC SumLogP not computed for word = MANY\n",
      "DIC SumLogP not computed for word = ALL\n",
      "DIC SumLogP not computed for word = BOY\n",
      "DIC SumLogP not computed for word = TEACHER\n",
      "DIC SumLogP not computed for word = GIRL\n",
      "DIC SumLogP not computed for word = BOX\n",
      "DIC SumLogP not computed for word = GIVE2\n",
      "DIC SumLogP not computed for word = GIVE3\n",
      "DIC SumLogP not computed for word = GET\n",
      "DIC SumLogP not computed for word = PUTASIDE\n",
      " Unable to Compute DIC LogL\n",
      "DIC SumLogP not computed for word = JOHN\n",
      "DIC SumLogP not computed for word = WRITE\n",
      "DIC SumLogP not computed for word = HOMEWORK\n",
      "DIC SumLogP not computed for word = IX-1P\n",
      "DIC SumLogP not computed for word = SEE\n",
      "DIC SumLogP not computed for word = YESTERDAY\n",
      "DIC SumLogP not computed for word = IX\n",
      "DIC SumLogP not computed for word = LOVE\n",
      "DIC SumLogP not computed for word = MARY\n",
      "DIC SumLogP not computed for word = CAN\n",
      "DIC SumLogP not computed for word = GO\n",
      "DIC SumLogP not computed for word = GO1\n",
      "DIC SumLogP not computed for word = FUTURE\n",
      "DIC SumLogP not computed for word = GO2\n",
      "DIC SumLogP not computed for word = PARTY\n",
      "DIC SumLogP not computed for word = FUTURE1\n",
      "DIC SumLogP not computed for word = HIT\n",
      "DIC SumLogP not computed for word = BLAME\n",
      "DIC SumLogP not computed for word = FRED\n",
      "DIC SumLogP not computed for word = FISH\n",
      "DIC SumLogP not computed for word = WONT\n",
      "DIC SumLogP not computed for word = EAT\n",
      "DIC SumLogP not computed for word = BUT\n",
      "DIC SumLogP not computed for word = CHICKEN\n",
      "DIC SumLogP not computed for word = VEGETABLE\n",
      "DIC SumLogP not computed for word = CHINA\n",
      "DIC SumLogP not computed for word = PEOPLE\n",
      "DIC SumLogP not computed for word = PREFER\n",
      "DIC SumLogP not computed for word = BROCCOLI\n",
      "DIC SumLogP not computed for word = LIKE\n",
      "DIC SumLogP not computed for word = LEAVE\n",
      "DIC SumLogP not computed for word = SAY\n",
      "DIC SumLogP not computed for word = BUY\n",
      "DIC SumLogP not computed for word = HOUSE\n",
      "DIC SumLogP not computed for word = KNOW\n",
      "DIC SumLogP not computed for word = CORN\n",
      "DIC SumLogP not computed for word = CORN1\n",
      "DIC SumLogP not computed for word = THINK\n",
      "DIC SumLogP not computed for word = NOT\n",
      "DIC SumLogP not computed for word = PAST\n",
      "DIC SumLogP not computed for word = LIVE\n",
      "DIC SumLogP not computed for word = CHICAGO\n",
      "DIC SumLogP not computed for word = CAR\n",
      "DIC SumLogP not computed for word = SHOULD\n",
      "DIC SumLogP not computed for word = DECIDE\n",
      "DIC SumLogP not computed for word = VISIT\n",
      "DIC SumLogP not computed for word = MOVIE\n",
      "DIC SumLogP not computed for word = WANT\n",
      "DIC SumLogP not computed for word = SELL\n",
      "DIC SumLogP not computed for word = TOMORROW\n",
      "DIC SumLogP not computed for word = NEXT-WEEK\n",
      "DIC SumLogP not computed for word = NEW-YORK\n",
      "DIC SumLogP not computed for word = LAST-WEEK\n",
      "DIC SumLogP not computed for word = WILL\n",
      "DIC SumLogP not computed for word = FINISH\n",
      "DIC SumLogP not computed for word = ANN\n",
      "DIC SumLogP not computed for word = READ\n",
      "DIC SumLogP not computed for word = BOOK\n",
      "DIC SumLogP not computed for word = CHOCOLATE\n",
      "DIC SumLogP not computed for word = FIND\n",
      "DIC SumLogP not computed for word = SOMETHING-ONE\n",
      "DIC SumLogP not computed for word = POSS\n",
      "DIC SumLogP not computed for word = BROTHER\n",
      "DIC SumLogP not computed for word = ARRIVE\n",
      "DIC SumLogP not computed for word = HERE\n",
      "DIC SumLogP not computed for word = GIVE\n",
      "DIC SumLogP not computed for word = MAN\n",
      "DIC SumLogP not computed for word = NEW\n",
      "DIC SumLogP not computed for word = COAT\n",
      "DIC SumLogP not computed for word = WOMAN\n",
      "DIC SumLogP not computed for word = GIVE1\n",
      "DIC SumLogP not computed for word = HAVE\n",
      "DIC SumLogP not computed for word = FRANK\n",
      "DIC SumLogP not computed for word = BREAK-DOWN\n",
      "DIC SumLogP not computed for word = SEARCH-FOR\n",
      "DIC SumLogP not computed for word = WHO\n",
      "DIC SumLogP not computed for word = WHAT\n",
      "DIC SumLogP not computed for word = LEG\n",
      "DIC SumLogP not computed for word = FRIEND\n",
      "DIC SumLogP not computed for word = CANDY\n",
      "DIC SumLogP not computed for word = BLUE\n",
      "DIC SumLogP not computed for word = SUE\n",
      "DIC SumLogP not computed for word = BUY1\n",
      "DIC SumLogP not computed for word = STOLEN\n",
      "DIC SumLogP not computed for word = OLD\n",
      "DIC SumLogP not computed for word = STUDENT\n",
      "DIC SumLogP not computed for word = VIDEOTAPE\n",
      "DIC SumLogP not computed for word = BORROW\n",
      "DIC SumLogP not computed for word = MOTHER\n",
      "DIC SumLogP not computed for word = POTATO\n",
      "DIC SumLogP not computed for word = TELL\n",
      "DIC SumLogP not computed for word = BILL\n",
      "DIC SumLogP not computed for word = THROW\n",
      "DIC SumLogP not computed for word = APPLE\n",
      "DIC SumLogP not computed for word = NAME\n",
      "DIC SumLogP not computed for word = SHOOT\n",
      "DIC SumLogP not computed for word = SAY-1P\n",
      "DIC SumLogP not computed for word = SELF\n",
      "DIC SumLogP not computed for word = GROUP\n",
      "DIC SumLogP not computed for word = JANA\n",
      "DIC SumLogP not computed for word = TOY1\n",
      "DIC SumLogP not computed for word = MANY\n",
      "DIC SumLogP not computed for word = ALL\n",
      "DIC SumLogP not computed for word = BOY\n",
      "DIC SumLogP not computed for word = TEACHER\n",
      "DIC SumLogP not computed for word = GIRL\n",
      "DIC SumLogP not computed for word = BOX\n",
      "DIC SumLogP not computed for word = GIVE2\n",
      "DIC SumLogP not computed for word = GIVE3\n",
      "DIC SumLogP not computed for word = GET\n",
      "DIC SumLogP not computed for word = PUTASIDE\n",
      " Unable to Compute DIC LogL\n",
      "DIC SumLogP not computed for word = JOHN\n",
      "DIC SumLogP not computed for word = WRITE\n",
      "DIC SumLogP not computed for word = HOMEWORK\n",
      "DIC SumLogP not computed for word = IX-1P\n",
      "DIC SumLogP not computed for word = SEE\n",
      "DIC SumLogP not computed for word = YESTERDAY\n",
      "DIC SumLogP not computed for word = IX\n",
      "DIC SumLogP not computed for word = LOVE\n",
      "DIC SumLogP not computed for word = MARY\n",
      "DIC SumLogP not computed for word = CAN\n",
      "DIC SumLogP not computed for word = GO\n",
      "DIC SumLogP not computed for word = GO1\n",
      "DIC SumLogP not computed for word = FUTURE\n",
      "DIC SumLogP not computed for word = GO2\n",
      "DIC SumLogP not computed for word = PARTY\n",
      "DIC SumLogP not computed for word = FUTURE1\n",
      "DIC SumLogP not computed for word = HIT\n",
      "DIC SumLogP not computed for word = BLAME\n",
      "DIC SumLogP not computed for word = FRED\n",
      "DIC SumLogP not computed for word = FISH\n",
      "DIC SumLogP not computed for word = WONT\n",
      "DIC SumLogP not computed for word = EAT\n",
      "DIC SumLogP not computed for word = BUT\n",
      "DIC SumLogP not computed for word = CHICKEN\n",
      "DIC SumLogP not computed for word = VEGETABLE\n",
      "DIC SumLogP not computed for word = CHINA\n",
      "DIC SumLogP not computed for word = PEOPLE\n",
      "DIC SumLogP not computed for word = PREFER\n",
      "DIC SumLogP not computed for word = BROCCOLI\n",
      "DIC SumLogP not computed for word = LIKE\n",
      "DIC SumLogP not computed for word = LEAVE\n",
      "DIC SumLogP not computed for word = SAY\n",
      "DIC SumLogP not computed for word = BUY\n",
      "DIC SumLogP not computed for word = HOUSE\n",
      "DIC SumLogP not computed for word = KNOW\n",
      "DIC SumLogP not computed for word = CORN\n",
      "DIC SumLogP not computed for word = CORN1\n",
      "DIC SumLogP not computed for word = THINK\n",
      "DIC SumLogP not computed for word = NOT\n",
      "DIC SumLogP not computed for word = PAST\n",
      "DIC SumLogP not computed for word = LIVE\n",
      "DIC SumLogP not computed for word = CHICAGO\n",
      "DIC SumLogP not computed for word = CAR\n",
      "DIC SumLogP not computed for word = SHOULD\n",
      "DIC SumLogP not computed for word = DECIDE\n",
      "DIC SumLogP not computed for word = VISIT\n",
      "DIC SumLogP not computed for word = MOVIE\n",
      "DIC SumLogP not computed for word = WANT\n",
      "DIC SumLogP not computed for word = SELL\n",
      "DIC SumLogP not computed for word = TOMORROW\n",
      "DIC SumLogP not computed for word = NEXT-WEEK\n",
      "DIC SumLogP not computed for word = NEW-YORK\n",
      "DIC SumLogP not computed for word = LAST-WEEK\n",
      "DIC SumLogP not computed for word = WILL\n",
      "DIC SumLogP not computed for word = FINISH\n",
      "DIC SumLogP not computed for word = ANN\n",
      "DIC SumLogP not computed for word = READ\n",
      "DIC SumLogP not computed for word = BOOK\n",
      "DIC SumLogP not computed for word = CHOCOLATE\n",
      "DIC SumLogP not computed for word = FIND\n",
      "DIC SumLogP not computed for word = SOMETHING-ONE\n",
      "DIC SumLogP not computed for word = POSS\n",
      "DIC SumLogP not computed for word = BROTHER\n",
      "DIC SumLogP not computed for word = ARRIVE\n",
      "DIC SumLogP not computed for word = HERE\n",
      "DIC SumLogP not computed for word = GIVE\n",
      "DIC SumLogP not computed for word = MAN\n",
      "DIC SumLogP not computed for word = NEW\n",
      "DIC SumLogP not computed for word = COAT\n",
      "DIC SumLogP not computed for word = WOMAN\n",
      "DIC SumLogP not computed for word = GIVE1\n",
      "DIC SumLogP not computed for word = HAVE\n",
      "DIC SumLogP not computed for word = FRANK"
     ]
    },
    {
     "name": "stderr",
     "output_type": "stream",
     "text": [
      "."
     ]
    },
    {
     "name": "stdout",
     "output_type": "stream",
     "text": [
      "\n",
      "DIC SumLogP not computed for word = BREAK-DOWN\n",
      "DIC SumLogP not computed for word = SEARCH-FOR\n",
      "DIC SumLogP not computed for word = WHO\n",
      "DIC SumLogP not computed for word = WHAT\n",
      "DIC SumLogP not computed for word = LEG\n",
      "DIC SumLogP not computed for word = FRIEND\n",
      "DIC SumLogP not computed for word = CANDY\n",
      "DIC SumLogP not computed for word = BLUE\n",
      "DIC SumLogP not computed for word = SUE\n",
      "DIC SumLogP not computed for word = BUY1\n",
      "DIC SumLogP not computed for word = STOLEN\n",
      "DIC SumLogP not computed for word = OLD\n",
      "DIC SumLogP not computed for word = STUDENT\n",
      "DIC SumLogP not computed for word = VIDEOTAPE\n",
      "DIC SumLogP not computed for word = BORROW\n",
      "DIC SumLogP not computed for word = MOTHER\n",
      "DIC SumLogP not computed for word = POTATO\n",
      "DIC SumLogP not computed for word = TELL\n",
      "DIC SumLogP not computed for word = BILL\n",
      "DIC SumLogP not computed for word = THROW\n",
      "DIC SumLogP not computed for word = APPLE\n",
      "DIC SumLogP not computed for word = NAME\n",
      "DIC SumLogP not computed for word = SHOOT\n",
      "DIC SumLogP not computed for word = SAY-1P\n",
      "DIC SumLogP not computed for word = SELF\n",
      "DIC SumLogP not computed for word = GROUP\n",
      "DIC SumLogP not computed for word = JANA\n",
      "DIC SumLogP not computed for word = TOY1\n",
      "DIC SumLogP not computed for word = MANY\n",
      "DIC SumLogP not computed for word = ALL\n",
      "DIC SumLogP not computed for word = BOY\n",
      "DIC SumLogP not computed for word = TEACHER\n",
      "DIC SumLogP not computed for word = GIRL\n",
      "DIC SumLogP not computed for word = BOX\n",
      "DIC SumLogP not computed for word = GIVE2\n",
      "DIC SumLogP not computed for word = GIVE3\n",
      "DIC SumLogP not computed for word = GET\n",
      "DIC SumLogP not computed for word = PUTASIDE\n",
      " Unable to Compute DIC LogL\n",
      "DIC SumLogP not computed for word = JOHN\n",
      "DIC SumLogP not computed for word = WRITE\n",
      "DIC SumLogP not computed for word = HOMEWORK\n",
      "DIC SumLogP not computed for word = IX-1P\n",
      "DIC SumLogP not computed for word = SEE\n",
      "DIC SumLogP not computed for word = YESTERDAY\n",
      "DIC SumLogP not computed for word = IX\n",
      "DIC SumLogP not computed for word = LOVE\n",
      "DIC SumLogP not computed for word = MARY\n",
      "DIC SumLogP not computed for word = CAN\n",
      "DIC SumLogP not computed for word = GO\n",
      "DIC SumLogP not computed for word = GO1\n",
      "DIC SumLogP not computed for word = FUTURE\n",
      "DIC SumLogP not computed for word = GO2\n",
      "DIC SumLogP not computed for word = PARTY\n",
      "DIC SumLogP not computed for word = FUTURE1\n",
      "DIC SumLogP not computed for word = HIT\n",
      "DIC SumLogP not computed for word = BLAME\n",
      "DIC SumLogP not computed for word = FRED\n",
      "DIC SumLogP not computed for word = FISH\n",
      "DIC SumLogP not computed for word = WONT\n",
      "DIC SumLogP not computed for word = EAT\n",
      "DIC SumLogP not computed for word = BUT\n",
      "DIC SumLogP not computed for word = CHICKEN\n",
      "DIC SumLogP not computed for word = VEGETABLE\n",
      "DIC SumLogP not computed for word = CHINA\n",
      "DIC SumLogP not computed for word = PEOPLE\n",
      "DIC SumLogP not computed for word = PREFER\n",
      "DIC SumLogP not computed for word = BROCCOLI\n",
      "DIC SumLogP not computed for word = LIKE\n",
      "DIC SumLogP not computed for word = LEAVE\n",
      "DIC SumLogP not computed for word = SAY\n",
      "DIC SumLogP not computed for word = BUY\n",
      "DIC SumLogP not computed for word = HOUSE\n",
      "DIC SumLogP not computed for word = KNOW\n",
      "DIC SumLogP not computed for word = CORN\n",
      "DIC SumLogP not computed for word = CORN1\n",
      "DIC SumLogP not computed for word = THINK\n",
      "DIC SumLogP not computed for word = NOT\n",
      "DIC SumLogP not computed for word = PAST\n",
      "DIC SumLogP not computed for word = LIVE\n",
      "DIC SumLogP not computed for word = CHICAGO\n",
      "DIC SumLogP not computed for word = CAR\n",
      "DIC SumLogP not computed for word = SHOULD\n",
      "DIC SumLogP not computed for word = DECIDE\n",
      "DIC SumLogP not computed for word = VISIT\n",
      "DIC SumLogP not computed for word = MOVIE\n",
      "DIC SumLogP not computed for word = WANT\n",
      "DIC SumLogP not computed for word = SELL\n",
      "DIC SumLogP not computed for word = TOMORROW\n",
      "DIC SumLogP not computed for word = NEXT-WEEK\n",
      "DIC SumLogP not computed for word = NEW-YORK\n",
      "DIC SumLogP not computed for word = LAST-WEEK\n",
      "DIC SumLogP not computed for word = WILL\n",
      "DIC SumLogP not computed for word = FINISH\n",
      "DIC SumLogP not computed for word = ANN\n",
      "DIC SumLogP not computed for word = READ\n",
      "DIC SumLogP not computed for word = BOOK\n",
      "DIC SumLogP not computed for word = CHOCOLATE\n",
      "DIC SumLogP not computed for word = FIND\n",
      "DIC SumLogP not computed for word = SOMETHING-ONE\n",
      "DIC SumLogP not computed for word = POSS\n",
      "DIC SumLogP not computed for word = BROTHER\n",
      "DIC SumLogP not computed for word = ARRIVE\n",
      "DIC SumLogP not computed for word = HERE\n",
      "DIC SumLogP not computed for word = GIVE\n",
      "DIC SumLogP not computed for word = MAN\n",
      "DIC SumLogP not computed for word = NEW\n",
      "DIC SumLogP not computed for word = COAT\n",
      "DIC SumLogP not computed for word = WOMAN\n",
      "DIC SumLogP not computed for word = GIVE1\n",
      "DIC SumLogP not computed for word = HAVE\n",
      "DIC SumLogP not computed for word = FRANK\n",
      "DIC SumLogP not computed for word = BREAK-DOWN\n",
      "DIC SumLogP not computed for word = SEARCH-FOR\n",
      "DIC SumLogP not computed for word = WHO\n",
      "DIC SumLogP not computed for word = WHAT\n",
      "DIC SumLogP not computed for word = LEG\n",
      "DIC SumLogP not computed for word = FRIEND\n",
      "DIC SumLogP not computed for word = CANDY\n",
      "DIC SumLogP not computed for word = BLUE\n",
      "DIC SumLogP not computed for word = SUE\n",
      "DIC SumLogP not computed for word = BUY1\n",
      "DIC SumLogP not computed for word = STOLEN\n",
      "DIC SumLogP not computed for word = OLD\n",
      "DIC SumLogP not computed for word = STUDENT\n",
      "DIC SumLogP not computed for word = VIDEOTAPE\n",
      "DIC SumLogP not computed for word = BORROW\n",
      "DIC SumLogP not computed for word = MOTHER\n",
      "DIC SumLogP not computed for word = POTATO\n",
      "DIC SumLogP not computed for word = TELL\n",
      "DIC SumLogP not computed for word = BILL\n",
      "DIC SumLogP not computed for word = THROW\n",
      "DIC SumLogP not computed for word = APPLE\n",
      "DIC SumLogP not computed for word = NAME\n",
      "DIC SumLogP not computed for word = SHOOT\n",
      "DIC SumLogP not computed for word = SAY-1P\n",
      "DIC SumLogP not computed for word = SELF\n",
      "DIC SumLogP not computed for word = GROUP\n",
      "DIC SumLogP not computed for word = JANA\n",
      "DIC SumLogP not computed for word = TOY1\n",
      "DIC SumLogP not computed for word = MANY\n",
      "DIC SumLogP not computed for word = ALL\n",
      "DIC SumLogP not computed for word = BOY\n",
      "DIC SumLogP not computed for word = TEACHER\n",
      "DIC SumLogP not computed for word = GIRL\n",
      "DIC SumLogP not computed for word = BOX\n",
      "DIC SumLogP not computed for word = GIVE2\n",
      "DIC SumLogP not computed for word = GIVE3\n",
      "DIC SumLogP not computed for word = GET\n",
      "DIC SumLogP not computed for word = PUTASIDE\n",
      " Unable to Compute DIC LogL\n"
     ]
    },
    {
     "name": "stderr",
     "output_type": "stream",
     "text": [
      "\n",
      "----------------------------------------------------------------------\n",
      "Ran 4 tests in 49.190s\n",
      "\n",
      "OK\n"
     ]
    },
    {
     "data": {
      "text/plain": [
       "<unittest.runner.TextTestResult run=4 errors=0 failures=0>"
      ]
     },
     "execution_count": 82,
     "metadata": {},
     "output_type": "execute_result"
    }
   ],
   "source": [
    "from asl_test_model_selectors import TestSelectors\n",
    "suite = unittest.TestLoader().loadTestsFromModule(TestSelectors())\n",
    "unittest.TextTestRunner().run(suite)"
   ]
  },
  {
   "cell_type": "markdown",
   "metadata": {
    "collapsed": false,
    "deletable": true,
    "editable": true
   },
   "source": [
    "<a id='part3_tutorial'></a>\n",
    "## PART 3: Recognizer\n",
    "The objective of this section is to \"put it all together\".  Using the four feature sets created and the three model selectors, you will experiment with the models and present your results.  Instead of training only five specific words as in the previous section, train the entire set with a feature set and model selector strategy.  \n",
    "### Recognizer Tutorial\n",
    "##### Train the full training set\n",
    "The following example trains the entire set with the example `features_ground` and `SelectorConstant` features and model selector.  Use this pattern for you experimentation and final submission cells.\n",
    "\n"
   ]
  },
  {
   "cell_type": "code",
   "execution_count": 83,
   "metadata": {
    "collapsed": false,
    "deletable": true,
    "editable": true
   },
   "outputs": [
    {
     "name": "stdout",
     "output_type": "stream",
     "text": [
      "Number of word models returned = 112\n"
     ]
    }
   ],
   "source": [
    "# autoreload for automatically reloading changes made in my_model_selectors and my_recognizer\n",
    "%load_ext autoreload\n",
    "%autoreload 2\n",
    "\n",
    "from my_model_selectors import SelectorConstant\n",
    "\n",
    "def train_all_words(features, model_selector):\n",
    "    training = asl.build_training(features)  # Experiment here with different feature sets defined in part 1\n",
    "    sequences = training.get_all_sequences()\n",
    "    Xlengths = training.get_all_Xlengths()\n",
    "    model_dict = {}\n",
    "    for word in training.words:\n",
    "        model = model_selector(sequences, Xlengths, word, \n",
    "                        n_constant=3).select()\n",
    "        model_dict[word]=model\n",
    "    return model_dict\n",
    "\n",
    "models = train_all_words(features_custom_scale, SelectorConstant)\n",
    "print(\"Number of word models returned = {}\".format(len(models)))"
   ]
  },
  {
   "cell_type": "markdown",
   "metadata": {
    "deletable": true,
    "editable": true
   },
   "source": [
    "##### Load the test set\n",
    "The `build_test` method in `ASLdb` is similar to the `build_training` method already presented, but there are a few differences:\n",
    "- the object is type `SinglesData` \n",
    "- the internal dictionary keys are the index of the test word rather than the word itself\n",
    "- the getter methods are `get_all_sequences`, `get_all_Xlengths`, `get_item_sequences` and `get_item_Xlengths`"
   ]
  },
  {
   "cell_type": "code",
   "execution_count": 86,
   "metadata": {
    "collapsed": false,
    "deletable": true,
    "editable": true
   },
   "outputs": [
    {
     "name": "stdout",
     "output_type": "stream",
     "text": [
      "Number of test set items: 178\n",
      "Number of test set sentences: 40\n"
     ]
    }
   ],
   "source": [
    "test_set = asl.build_test(features_custom_scale)\n",
    "print(\"Number of test set items: {}\".format(test_set.num_items))\n",
    "print(\"Number of test set sentences: {}\".format(len(test_set.sentences_index)))"
   ]
  },
  {
   "cell_type": "markdown",
   "metadata": {
    "deletable": true,
    "editable": true
   },
   "source": [
    "<a id='part3_submission'></a>\n",
    "### Recognizer Implementation Submission\n",
    "For the final project submission, students must implement a recognizer following guidance in the `my_recognizer.py` module.  Experiment with the four feature sets and the three model selection methods (that's 12 possible combinations). You can add and remove cells for experimentation or run the recognizers locally in some other way during your experiments, but retain the results for your discussion.  For submission, you will provide code cells of **only three** interesting combinations for your discussion (see questions below). At least one of these should produce a word error rate of less than 60%, i.e. WER < 0.60 . \n",
    "\n",
    "**Tip:** The hmmlearn library may not be able to train or score all models.  Implement try/except contructs as necessary to eliminate non-viable models from consideration."
   ]
  },
  {
   "cell_type": "code",
   "execution_count": null,
   "metadata": {
    "collapsed": false,
    "deletable": true,
    "editable": true
   },
   "outputs": [],
   "source": [
    "# TODO implement the recognize method in my_recognizer\n",
    "from my_recognizer import recognize\n",
    "from asl_utils import show_errors"
   ]
  },
  {
   "cell_type": "code",
   "execution_count": null,
   "metadata": {
    "collapsed": false,
    "deletable": true,
    "editable": true
   },
   "outputs": [],
   "source": [
    "# TODO Choose a feature set and model selector\n",
    "#features = features_ground # change as needed\n",
    "#features = features_polar \n",
    "#features = features_delta \n",
    "features = features_custom \n",
    "#features = features_custom_scale \n",
    "\n",
    "model_selector = SelectorConstant # change as needed\n",
    "#model_selector = SelectorCV\n",
    "#model_selector = SelectorBIC\n",
    "#model_selector = SelectorDIC\n",
    "\n",
    "# TODO Recognize the test set and display the result with the show_errors method\n",
    "models = train_all_words(features, model_selector)\n",
    "test_set = asl.build_test(features)\n",
    "probabilities, guesses = recognize(models, test_set)\n",
    "show_errors(guesses, test_set)"
   ]
  },
  {
   "cell_type": "code",
   "execution_count": null,
   "metadata": {
    "collapsed": false,
    "deletable": true,
    "editable": true
   },
   "outputs": [],
   "source": [
    "# TODO Choose a feature set and model selector\n",
    "# TODO Recognize the test set and display the result with the show_errors method"
   ]
  },
  {
   "cell_type": "code",
   "execution_count": null,
   "metadata": {
    "collapsed": false,
    "deletable": true,
    "editable": true
   },
   "outputs": [],
   "source": [
    "# TODO Choose a feature set and model selector\n",
    "# TODO Recognize the test set and display the result with the show_errors method"
   ]
  },
  {
   "cell_type": "markdown",
   "metadata": {
    "deletable": true,
    "editable": true
   },
   "source": [
    "**Question 3:**  Summarize the error results from three combinations of features and model selectors.  What was the \"best\" combination and why?  What additional information might we use to improve our WER?  For more insight on improving WER, take a look at the introduction to Part 4.\n",
    "\n",
    "**Answer 3:**"
   ]
  },
  {
   "cell_type": "markdown",
   "metadata": {
    "deletable": true,
    "editable": true
   },
   "source": [
    "<a id='part3_test'></a>\n",
    "### Recognizer Unit Tests\n",
    "Run the following unit tests as a sanity check on the defined recognizer.  The test simply looks for some valid values but is not exhaustive. However, the project should not be submitted if these tests don't pass."
   ]
  },
  {
   "cell_type": "code",
   "execution_count": null,
   "metadata": {
    "collapsed": false,
    "deletable": true,
    "editable": true
   },
   "outputs": [],
   "source": [
    "from asl_test_recognizer import TestRecognize\n",
    "suite = unittest.TestLoader().loadTestsFromModule(TestRecognize())\n",
    "unittest.TextTestRunner().run(suite)"
   ]
  },
  {
   "cell_type": "markdown",
   "metadata": {
    "deletable": true,
    "editable": true
   },
   "source": [
    "<a id='part4_info'></a>\n",
    "## PART 4: (OPTIONAL)  Improve the WER with Language Models\n",
    "We've squeezed just about as much as we can out of the model and still only get about 50% of the words right! Surely we can do better than that.  Probability to the rescue again in the form of [statistical language models (SLM)](https://en.wikipedia.org/wiki/Language_model).  The basic idea is that each word has some probability of occurrence within the set, and some probability that it is adjacent to specific other words. We can use that additional information to make better choices.\n",
    "\n",
    "##### Additional reading and resources\n",
    "- [Introduction to N-grams (Stanford Jurafsky slides)](https://web.stanford.edu/class/cs124/lec/languagemodeling.pdf)\n",
    "- [Speech Recognition Techniques for a Sign Language Recognition System, Philippe Dreuw et al](https://www-i6.informatik.rwth-aachen.de/publications/download/154/Dreuw--2007.pdf) see the improved results of applying LM on *this* data!\n",
    "- [SLM data for *this* ASL dataset](ftp://wasserstoff.informatik.rwth-aachen.de/pub/rwth-boston-104/lm/)\n",
    "\n",
    "##### Optional challenge\n",
    "The recognizer you implemented in Part 3 is equivalent to a \"0-gram\" SLM.  Improve the WER with the SLM data provided with the data set in the link above using \"1-gram\", \"2-gram\", and/or \"3-gram\" statistics. The `probabilities` data you've already calculated will be useful and can be turned into a pandas DataFrame if desired (see next cell).  \n",
    "Good luck!  Share your results with the class!"
   ]
  },
  {
   "cell_type": "code",
   "execution_count": null,
   "metadata": {
    "collapsed": true,
    "deletable": true,
    "editable": true
   },
   "outputs": [],
   "source": [
    "# create a DataFrame of log likelihoods for the test word items\n",
    "df_probs = pd.DataFrame(data=probabilities)\n",
    "df_probs.head()"
   ]
  }
 ],
 "metadata": {
  "anaconda-cloud": {},
  "kernelspec": {
   "display_name": "Python 3",
   "language": "python",
   "name": "python3"
  },
  "language_info": {
   "codemirror_mode": {
    "name": "ipython",
    "version": 3
   },
   "file_extension": ".py",
   "mimetype": "text/x-python",
   "name": "python",
   "nbconvert_exporter": "python",
   "pygments_lexer": "ipython3",
   "version": "3.6.0"
  },
  "nbpresent": {
   "slides": {
    "0a2d4faf-9fb8-4cee-853b-ed68b90f3f8a": {
     "id": "0a2d4faf-9fb8-4cee-853b-ed68b90f3f8a",
     "prev": null,
     "regions": {
      "3fb9ce83-fbb2-4995-832a-f8f400734ad3": {
       "attrs": {
        "height": 0.8,
        "width": 0.8,
        "x": 0.1,
        "y": 0.1
       },
       "content": {
        "cell": "1dbb9346-179b-4835-b430-6369d88f1a1b",
        "part": "whole"
       },
       "id": "3fb9ce83-fbb2-4995-832a-f8f400734ad3"
      }
     }
    },
    "1519a4fa-1588-4644-98de-9c43bf0aceb5": {
     "id": "1519a4fa-1588-4644-98de-9c43bf0aceb5",
     "prev": "8a712017-49b7-449f-8264-43a032ace902",
     "regions": {
      "29546121-ed11-44b7-8144-0c44e874098f": {
       "attrs": {
        "height": 0.8,
        "width": 0.8,
        "x": 0.1,
        "y": 0.1
       },
       "content": {
        "cell": "365590a4-6963-4812-a1cf-688f7b6bb9ff",
        "part": "whole"
       },
       "id": "29546121-ed11-44b7-8144-0c44e874098f"
      }
     }
    },
    "176eaccb-15dd-455d-bf07-504213e7aa01": {
     "id": "176eaccb-15dd-455d-bf07-504213e7aa01",
     "prev": "de6b30f4-2463-4901-92ed-aabad78e5e0f",
     "regions": {
      "1542aa9e-dc55-4b90-adef-bf5181872b42": {
       "attrs": {
        "height": 0.8,
        "width": 0.8,
        "x": 0.1,
        "y": 0.1
       },
       "content": {
        "cell": "5c242050-c1f7-4b3b-8103-2ea9d71a40dc",
        "part": "whole"
       },
       "id": "1542aa9e-dc55-4b90-adef-bf5181872b42"
      }
     }
    },
    "19091b36-b0e7-49b1-b501-ec05937e0da9": {
     "id": "19091b36-b0e7-49b1-b501-ec05937e0da9",
     "prev": "1983c02e-fb99-4c05-a728-e0c0ad7c06d8",
     "regions": {
      "6529a31c-8d45-425c-b1d7-d0ac6fca6a32": {
       "attrs": {
        "height": 0.8,
        "width": 0.8,
        "x": 0.1,
        "y": 0.1
       },
       "content": {
        "cell": "e766909d-9421-4aaf-9fb1-bc90d27e49e3",
        "part": "whole"
       },
       "id": "6529a31c-8d45-425c-b1d7-d0ac6fca6a32"
      }
     }
    },
    "1983c02e-fb99-4c05-a728-e0c0ad7c06d8": {
     "id": "1983c02e-fb99-4c05-a728-e0c0ad7c06d8",
     "prev": "176eaccb-15dd-455d-bf07-504213e7aa01",
     "regions": {
      "1c4e605d-7f22-4f30-b3fb-74b2937e7a4a": {
       "attrs": {
        "height": 0.8,
        "width": 0.8,
        "x": 0.1,
        "y": 0.1
       },
       "content": {
        "cell": "4d217204-e5c0-4568-bd30-12c2e41b681d",
        "part": "whole"
       },
       "id": "1c4e605d-7f22-4f30-b3fb-74b2937e7a4a"
      }
     }
    },
    "212b111f-4527-459c-8297-1db5580ee5c9": {
     "id": "212b111f-4527-459c-8297-1db5580ee5c9",
     "prev": "76898529-e49e-4663-8d02-8261dfe1d94b",
     "regions": {
      "2e4bd280-3cd6-47d0-9c81-17737b24053b": {
       "attrs": {
        "height": 0.8,
        "width": 0.8,
        "x": 0.1,
        "y": 0.1
       },
       "content": {
        "cell": "0c316996-9933-4b3d-82ec-259518dc8bc9",
        "part": "whole"
       },
       "id": "2e4bd280-3cd6-47d0-9c81-17737b24053b"
      }
     }
    },
    "23a7337f-a0cf-4ed4-baa9-ec06bfdc0579": {
     "id": "23a7337f-a0cf-4ed4-baa9-ec06bfdc0579",
     "prev": "e76e9a02-54c1-4ec9-80fb-c611ed398122",
     "regions": {
      "b5721d20-d6f8-4ddb-a5aa-eb16f0cc8893": {
       "attrs": {
        "height": 0.8,
        "width": 0.8,
        "x": 0.1,
        "y": 0.1
       },
       "content": {
        "cell": "313015a2-b5a9-4136-a8ea-5d011e47d840",
        "part": "whole"
       },
       "id": "b5721d20-d6f8-4ddb-a5aa-eb16f0cc8893"
      }
     }
    },
    "732f1952-ee54-46fb-8067-099512824296": {
     "id": "732f1952-ee54-46fb-8067-099512824296",
     "prev": "0a2d4faf-9fb8-4cee-853b-ed68b90f3f8a",
     "regions": {
      "f31d4597-08ad-4c46-ad52-4bd2d775c624": {
       "attrs": {
        "height": 0.8,
        "width": 0.8,
        "x": 0.1,
        "y": 0.1
       },
       "content": {
        "cell": "aadfec52-27ca-4541-8920-fa9253d51827",
        "part": "whole"
       },
       "id": "f31d4597-08ad-4c46-ad52-4bd2d775c624"
      }
     }
    },
    "76898529-e49e-4663-8d02-8261dfe1d94b": {
     "id": "76898529-e49e-4663-8d02-8261dfe1d94b",
     "prev": "19091b36-b0e7-49b1-b501-ec05937e0da9",
     "regions": {
      "ec1746fc-aec9-4a7c-8225-9e9ac8d45889": {
       "attrs": {
        "height": 0.8,
        "width": 0.8,
        "x": 0.1,
        "y": 0.1
       },
       "content": {
        "cell": "b3e539be-84e2-49ce-a183-31cfc5c7ce7c",
        "part": "whole"
       },
       "id": "ec1746fc-aec9-4a7c-8225-9e9ac8d45889"
      }
     }
    },
    "8a712017-49b7-449f-8264-43a032ace902": {
     "id": "8a712017-49b7-449f-8264-43a032ace902",
     "prev": "bed9e696-630e-4747-be1c-bc3737ba992f",
     "regions": {
      "1faab517-cd16-4c63-bb01-a67246749d7a": {
       "attrs": {
        "height": 0.8,
        "width": 0.8,
        "x": 0.1,
        "y": 0.1
       },
       "content": {
        "cell": "3f14ddf0-4145-4687-9c33-712c3c32520f",
        "part": "whole"
       },
       "id": "1faab517-cd16-4c63-bb01-a67246749d7a"
      }
     }
    },
    "90af992d-eb6d-4496-b2d2-6aa9a95b6a61": {
     "id": "90af992d-eb6d-4496-b2d2-6aa9a95b6a61",
     "prev": "732f1952-ee54-46fb-8067-099512824296",
     "regions": {
      "4f448bec-5be9-4553-88ae-e35ed7612f25": {
       "attrs": {
        "height": 0.8,
        "width": 0.8,
        "x": 0.1,
        "y": 0.1
       },
       "content": {
        "cell": "c445fbfb-b8ab-4e9a-8d13-12231a1c588f",
        "part": "whole"
       },
       "id": "4f448bec-5be9-4553-88ae-e35ed7612f25"
      }
     }
    },
    "bed9e696-630e-4747-be1c-bc3737ba992f": {
     "id": "bed9e696-630e-4747-be1c-bc3737ba992f",
     "prev": "23a7337f-a0cf-4ed4-baa9-ec06bfdc0579",
     "regions": {
      "ac1513f0-404f-492b-8b42-0313e9a753b0": {
       "attrs": {
        "height": 0.8,
        "width": 0.8,
        "x": 0.1,
        "y": 0.1
       },
       "content": {
        "cell": "18dd2eee-8b6c-4a5e-9539-132d00a7c7e1",
        "part": "whole"
       },
       "id": "ac1513f0-404f-492b-8b42-0313e9a753b0"
      }
     }
    },
    "de6b30f4-2463-4901-92ed-aabad78e5e0f": {
     "id": "de6b30f4-2463-4901-92ed-aabad78e5e0f",
     "prev": "e36b4639-be8c-46f7-a8c9-bcfb134f9fd0",
     "regions": {
      "55ec36e0-362f-4fd3-8060-7cee056039aa": {
       "attrs": {
        "height": 0.8,
        "width": 0.8,
        "x": 0.1,
        "y": 0.1
       },
       "content": {
        "cell": "c3cf461e-4c9e-4dec-99d2-07bfa79cbe23",
        "part": "whole"
       },
       "id": "55ec36e0-362f-4fd3-8060-7cee056039aa"
      }
     }
    },
    "e36b4639-be8c-46f7-a8c9-bcfb134f9fd0": {
     "id": "e36b4639-be8c-46f7-a8c9-bcfb134f9fd0",
     "prev": "1519a4fa-1588-4644-98de-9c43bf0aceb5",
     "regions": {
      "4c1e9714-9ba0-45fd-8a2f-ef80a5c85c2e": {
       "attrs": {
        "height": 0.8,
        "width": 0.8,
        "x": 0.1,
        "y": 0.1
       },
       "content": {
        "cell": "6534d4dc-125f-47e6-a022-cf1e0d277174",
        "part": "whole"
       },
       "id": "4c1e9714-9ba0-45fd-8a2f-ef80a5c85c2e"
      }
     }
    },
    "e76e9a02-54c1-4ec9-80fb-c611ed398122": {
     "id": "e76e9a02-54c1-4ec9-80fb-c611ed398122",
     "prev": "90af992d-eb6d-4496-b2d2-6aa9a95b6a61",
     "regions": {
      "9491b84d-193b-40ff-9321-d21eb1ba88d4": {
       "attrs": {
        "height": 0.8,
        "width": 0.8,
        "x": 0.1,
        "y": 0.1
       },
       "content": {
        "cell": "b64ec10e-fa9d-4f3f-907f-6799611ed6b1",
        "part": "whole"
       },
       "id": "9491b84d-193b-40ff-9321-d21eb1ba88d4"
      }
     }
    }
   },
   "themes": {}
  }
 },
 "nbformat": 4,
 "nbformat_minor": 0
}
